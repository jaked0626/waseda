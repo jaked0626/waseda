{
 "cells": [
  {
   "cell_type": "markdown",
   "metadata": {},
   "source": [
    "## Logistic regression  \n",
    "\n",
    "The logistic function:  \n",
    "\n",
    "$$N(x) = \\frac{K}{1 + \\exp\\left(-aK(x - x_0)\\right)} \\\\\n",
    "\\frac{dN}{dt}= a\\left(\\frac{K-N}{K}\\right)N$$\n",
    "Typically, $K = 1$ and the following is used for regression:\n",
    "$$f(x_i, a, x_0) = \\frac{1}{1 + \\exp\\left(-a(x_i - x_0)\\right)}$$\n",
    "\n",
    "Logistic regression is used when $y_i = \\{0,1\\}$, or if it is boolean.  \n",
    "Classifies Class A $\\iff y_i = 0$, Class B $\\iff y_i = 1$  \n",
    "\n",
    "The **sigmoid function** is a special case of the logistic function when \n",
    "$K=1, x_0=0$:\n",
    "$$f(x) = \\frac{1}{1 + \\exp(-ax)}$$"
   ]
  },
  {
   "cell_type": "code",
   "execution_count": null,
   "metadata": {},
   "outputs": [],
   "source": [
    "import numpy as np\n",
    "import matplotlib.pyplot as plt\n",
    "\n",
    "from sklearn import linear_model\n",
    "from scipy.special import expit"
   ]
  },
  {
   "cell_type": "code",
   "execution_count": 16,
   "metadata": {},
   "outputs": [
    {
     "data": {
      "image/png": "[encoded data removed]",
      "text/plain": [
       "<Figure size 576x432 with 1 Axes>"
      ]
     },
     "metadata": {
      "needs_background": "light"
     },
     "output_type": "display_data"
    }
   ],
   "source": [
    "# Data \n",
    "X = np.array([1.2, 1.25, 1.30, 1.35, 1.40, 1.45, 1.50, 1.55, 1.60, 1.65, 1.70, 1.75])\n",
    "Y = np.array([0, 0, 0, 0, 1, 0 , 1, 0, 1, 1, 1, 1])\n",
    "X = X.reshape(-1, 1)\n",
    "Y = Y.reshape(-1, 1)\n",
    "\n",
    "# Fit the classifier\n",
    "clf = linear_model.LogisticRegression(C=1e5)\n",
    "clf.fit(X, y)\n",
    "\n",
    "# and plot the result\n",
    "plt.figure(1, figsize=(8, 6))\n",
    "plt.clf()\n",
    "plt.scatter(X.ravel(), y, color='black', zorder=20)\n",
    "X_test = np.linspace(-5, 10, 300)\n",
    "\n",
    "loss = expit(X_test * clf.coef_ + clf.intercept_).ravel()\n",
    "plt.plot(X_test, loss, color='red', linewidth=3)\n",
    "\n",
    "ols = linear_model.LinearRegression()\n",
    "ols.fit(X, y)\n",
    "plt.plot(X_test, ols.coef_ * X_test + ols.intercept_, linewidth=1)\n",
    "plt.axhline(.5, color='.5')\n",
    "\n",
    "plt.ylabel('y')\n",
    "plt.xlabel('X')\n",
    "plt.xticks(range(1, 3))\n",
    "plt.yticks([0, 0.5, 1])\n",
    "plt.ylim(-.25, 1.25)\n",
    "plt.xlim(1, 2)\n",
    "plt.legend(('Logistic Regression Model', 'Linear Regression Model'),\n",
    "           loc=\"lower right\", fontsize='small')\n",
    "plt.tight_layout()\n",
    "plt.show()"
   ]
  },
  {
   "cell_type": "markdown",
   "metadata": {},
   "source": [
    "### Example:  \n",
    "\n",
    "$$\n",
    "\\begin{align}\n",
    "&(x_n, y_n) : \\text{$n$ th learning data} \\\\\n",
    "&x_n = (x_n 1)^T : \\text{vector of $x_n$ with added dimension} \\\\\n",
    "&w = (w_1 w_2) ^T : \\text{parameters} \\\\\n",
    "&\\hat{y_n} = \\frac{1}{1 + \\exp(-w^Tx)} : \\text{prediction} \\\\\n",
    "&e_n^2 = \\frac{1}{2}(\\hat{y_n} - y_n)^2 = \\frac{1}{2}(\\frac{1}{1 + \\exp(-w^Tx)} - y_n)^2  \\\\\n",
    "&E = \\frac{1}{2}\\sum^N_{n=1}(\\hat{y_n} - y_n)^2 = \\frac{1}{2}\\sum^N_{n=1}(\\frac{1}{1 + \\exp(-w^Tx)} - y_n)^2 \n",
    "\\end{align}\n",
    "$$"
   ]
  },
  {
   "cell_type": "markdown",
   "metadata": {},
   "source": [
    "The objective function is the total error $E$, and we want to differentiate this to minimize it. However, for logistic regressions, we do not find an analytical solution. Thus, we must approximate through recursion.  \n",
    "\n",
    "*The Gradient Method*:  \n",
    "* Feed an approximate solution\n",
    "* Use gradient of approximation \n",
    "* gradually improve solution  \n",
    "\n",
    "eg. gradient descent, conjugate gradient method, newton method (see DSGE lecture notes)  \n"
   ]
  },
  {
   "cell_type": "markdown",
   "metadata": {},
   "source": [
    "![](images/gradient-method.jpg)"
   ]
  },
  {
   "cell_type": "markdown",
   "metadata": {},
   "source": [
    "## Gradient Descent  \n",
    "\n",
    "$$x_{i+1} - x_i - \\alpha \\nabla f(x_i) $$\n",
    "\n",
    "where $\\alpha$ is the learning rate.  \n",
    "Iterate through this until $|x_{i+1} - x_i| < \\epsilon$ for $\\epsilon =$ tolerated error rate. "
   ]
  },
  {
   "cell_type": "code",
   "execution_count": null,
   "metadata": {},
   "outputs": [],
   "source": []
  }
 ],
 "metadata": {
  "kernelspec": {
   "display_name": "Python 3",
   "language": "python",
   "name": "python3"
  },
  "language_info": {
   "codemirror_mode": {
    "name": "ipython",
    "version": 3
   },
   "file_extension": ".py",
   "mimetype": "text/x-python",
   "name": "python",
   "nbconvert_exporter": "python",
   "pygments_lexer": "ipython3",
   "version": "3.8.3"
  }
 },
 "nbformat": 4,
 "nbformat_minor": 4
}
