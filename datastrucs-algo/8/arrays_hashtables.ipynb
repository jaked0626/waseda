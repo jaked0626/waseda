{
 "cells": [
  {
   "cell_type": "markdown",
   "metadata": {},
   "source": [
    "# Data Structures  \n",
    "\n",
    "Containers of data.  \n",
    "Operations on data structures are called *queries*.   \n",
    "  \n",
    "## Arrays  \n",
    "\n",
    "Each node in array holds information of what number it is in overall array. \n",
    "\n",
    "Benefits of arrays:  \n",
    "* Takes $O(1)$ to index an item in an array  \n",
    "* **Random access**: Can directly reference items regardless of where they are stored or the order of their storage. \n",
    "\n",
    "Cons of arrays:  \n",
    "* Takes time with insertion and deletion operations. Takes $O(N)$ to insert or delete items (not necessarily so if *appending*).  \n",
    "* searching (for node with specified value) takes $O(N)$\n",
    "\n",
    "## Linked Lists  \n",
    "\n",
    "Comprises nodes and pointers. Each node has a pointer which points to the next node in the list, but does not contain ordering information. This allows for quick insertions and deletions in $O(1)$ time. \n",
    "Pros:\n",
    "* *insertions* and *deletions* in $O(1)$ time. \n",
    "\n",
    "Cons:\n",
    "* indexing takes $O(N)$. \n",
    "* searching (for node with specified value) takes $O(N)$\n",
    "\n",
    "eg. \n",
    "\n",
    "|location in memory | node_name | pointer |\n",
    "| --- | --- | --- |\n",
    "| 10 | Yuta | 30 |\n",
    "| 20 | Taku | 40 |\n",
    "| 30 | Isaac | 20 |\n",
    "| 40 | Annabelle | nil |\n",
    "\n",
    "In the above table representing a linked list, the nodes are ordered  \n",
    "Yuta $\\rightarrow$ Isaac $\\rightarrow$ Taku $\\to$ Annabelle\n",
    "\n",
    "\n",
    "Construction example in c++: \n",
    "\n",
    "```\n",
    "struct Node {\n",
    "    Node* next; // pointer of next node in the list\n",
    "    string name; // value in this node \n",
    "\n",
    "    Node(string name_ = \"\") : next(NULL), name(name_) { }\n",
    "};\n",
    "```\n",
    "\n",
    "Can also make it biderectional.  \n",
    "\n",
    "```\n",
    "struct Node {\n",
    "    Node *next, *prev; \n",
    "    string name; // value in this node \n",
    "\n",
    "    Node(string name_ = \"\") : \n",
    "    next(NULL), prev(NULL), name(name_) { }\n",
    "};\n",
    "```\n"
   ]
  },
  {
   "cell_type": "markdown",
   "metadata": {},
   "source": [
    "## Hash Tables  \n",
    "\n"
   ]
  },
  {
   "cell_type": "markdown",
   "metadata": {},
   "source": [
    "In computing, a hash table (hash map) is a data structure that implements an associative array abstract data type, a structure that can map keys to values. A hash table uses a hash function to compute an index, also called a hash code, into an array of buckets or slots, from which the desired value can be found. During lookup, the key is hashed and the resulting hash indicates where the corresponding value is stored.  \n",
    "\n",
    "Ideally, the hash function will assign each key to a unique bucket, but most hash table designs employ an imperfect hash function, which might cause hash collisions where the hash function generates the same index for more than one key. Such collisions are typically accommodated in some way (store in next availabe space).  \n",
    "\n",
    "First, all keys are initialized to $false$.   \n",
    "* Insertion: $T[x] = true$  \n",
    "* Deletion: $T[x] = false$  \n",
    "* Search: $T[x]$'s value.   "
   ]
  },
  {
   "cell_type": "markdown",
   "metadata": {},
   "source": [
    "Performs all above actions in $O(1)$. \n",
    "\n",
    "Avoiding collisions: \n",
    "* **Separate Chaining**: keep a list at every element in hash table. That way, append values with same hash key to the list under that key. Insertion, deletion processes peformed as in list.  \n",
    "* **Open Address**: Rehash until vacant spot. When rehash function is $\\left(h(x) + i\\right )\\% M$ where $i$ is the number of times rehashed, is called linear probing. When hash is $\\left(h(x) + i \\times g(x)\\right)\\% M$ (Double hashing). "
   ]
  },
  {
   "cell_type": "markdown",
   "metadata": {},
   "source": []
  }
 ],
 "metadata": {
  "language_info": {
   "name": "python"
  },
  "orig_nbformat": 4
 },
 "nbformat": 4,
 "nbformat_minor": 2
}
