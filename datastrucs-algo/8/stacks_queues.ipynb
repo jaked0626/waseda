{
 "cells": [
  {
   "cell_type": "markdown",
   "metadata": {},
   "source": [
    "# Stacks  \n",
    "\n",
    "**Last in first out** or **First in last out**.   \n"
   ]
  },
  {
   "cell_type": "code",
   "execution_count": 14,
   "metadata": {},
   "outputs": [
    {
     "name": "stdout",
     "output_type": "stream",
     "text": [
      "5\n",
      "STACK:(top) \n",
      "         4\n",
      "         3\n",
      "         2\n",
      "         1\n",
      "         0\n",
      "     (bottom)\n",
      "STACK:(top) \n",
      "         \n",
      "     (bottom)\n"
     ]
    }
   ],
   "source": [
    "class Stack:\n",
    "\n",
    "    def __init__(self):\n",
    "        self.__lst = []\n",
    "    \n",
    "    def push(self, value):\n",
    "        self.__lst.append(value)\n",
    "\n",
    "    def pop(self):\n",
    "        return self.__lst.pop()\n",
    "    \n",
    "    def peek(self):\n",
    "        return self.__lst[-1]\n",
    "\n",
    "    def is_empty(self):\n",
    "        return len(self.__lst) == 0\n",
    "\n",
    "    # Stack methods\n",
    "\n",
    "    def __repr__(self):\n",
    "        return(\"STACK:(top) \\n         \"\n",
    "                + \"\\n         \".join(str(x) for x in reversed(self.__lst))\n",
    "                + \"\\n     (bottom)\")\n",
    "\n",
    "s = Stack()\n",
    "for i in range(6):\n",
    "    s.push(i)\n",
    "print(s.pop())\n",
    "print(s)"
   ]
  },
  {
   "cell_type": "markdown",
   "metadata": {},
   "source": [
    "# Queue  \n",
    "\n",
    "**First in first out**  \n",
    "\n",
    "Push and pop operations in a queue affect both ends of the array, making it expensive if we implement the queue as a normal list.  \n",
    "\n",
    "## Ring Buffer  \n",
    "A ring buffer is a data structure that is treated as circular although it its implementation is linear.  \n",
    "\n",
    "\n",
    "\n"
   ]
  },
  {
   "cell_type": "code",
   "execution_count": 18,
   "metadata": {},
   "outputs": [
    {
     "name": "stdout",
     "output_type": "stream",
     "text": [
      "queue is full\n"
     ]
    }
   ],
   "source": [
    "class Queue:\n",
    "    def __init__(self):\n",
    "        self.MAX = 100 # maximum capacity of queue is 99\n",
    "        self.tail = 0\n",
    "        self.head = 0\n",
    "        self.__lst = [0] * self.MAX # initialize ring\n",
    "\n",
    "    def isEmpty(self):\n",
    "        return self.head == self.tail\n",
    "\n",
    "    def isFull(self):\n",
    "        return self.head == (self.tail + 1) % self.MAX  # loop around ring\n",
    "    \n",
    "    def enqueue(self, x):\n",
    "        if self.isFull():\n",
    "            print(\"queue is full\")\n",
    "        else:\n",
    "            self.__lst[self.tail] = x\n",
    "            self.tail = (self.tail + 1) % self.MAX\n",
    "\n",
    "    def dequeue(self):\n",
    "        if self.isEmtpy():\n",
    "            print(\"queue is empty\")\n",
    "        else:\n",
    "            dequeued = self.__lst[self.head]\n",
    "            self.head = (self.head + 1) % self.MAX # loop around ring\n",
    "            return dequeued\n",
    "    \n",
    "q = Queue()\n",
    "for i in range(100):\n",
    "    q.enqueue(i)\n",
    "\n",
    "    "
   ]
  }
 ],
 "metadata": {
  "interpreter": {
   "hash": "73df3d2a648ddfe6e132dd0b2981f8c5ee01eb57f65aaa52301d101a94b0ebb5"
  },
  "kernelspec": {
   "display_name": "Python 3.8.3 64-bit ('base': conda)",
   "language": "python",
   "name": "python3"
  },
  "language_info": {
   "codemirror_mode": {
    "name": "ipython",
    "version": 3
   },
   "file_extension": ".py",
   "mimetype": "text/x-python",
   "name": "python",
   "nbconvert_exporter": "python",
   "pygments_lexer": "ipython3",
   "version": "3.8.3"
  },
  "orig_nbformat": 4
 },
 "nbformat": 4,
 "nbformat_minor": 2
}
