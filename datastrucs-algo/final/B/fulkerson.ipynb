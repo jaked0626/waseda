{
 "cells": [
  {
   "cell_type": "markdown",
   "metadata": {},
   "source": [
    "<h1 style=\"text-align:center\"> Ford-Fulkerson Method </h1>\n"
   ]
  },
  {
   "cell_type": "markdown",
   "metadata": {},
   "source": [
    "<p style=\"text-align:right\">アンダーランド ジェイク<br>1A193008-2<br>2022/01/29</p>"
   ]
  },
  {
   "cell_type": "markdown",
   "metadata": {},
   "source": [
    "フォード・ファルカーソンアルゴリズムとは，最大流問題と，その双対問題である最小カット問題を解くためのアルゴリズムである．  \n",
    "## Setup  \n",
    "* 頂点と重み付きの辺を持つグラフ$G(V,E)$がある．また，グラフの頂点には始点$s$と終点$t$がある．  \n",
    "* ある隣接する2頂点$u,v$間の辺が許容できる容量を$c(u,v)$と表す．$c(u,v)$は非負の整数である．\n",
    "* $u$から$v$まで流すフローを$f(u, v)$と表す．また，$f(s,t)$を省略して$f$と記す．   \n",
    "* $s$と$t$を除く全ての頂点で，出ていくフローと入っていくフローが等しい．\n",
    "* 一度にどこまでの\"フロー\"を，このグラフは$s$から$t$まで流すことができるかを考える．  \n"
   ]
  },
  {
   "cell_type": "markdown",
   "metadata": {},
   "source": [
    "## 重要概念  \n",
    "### 残余グラフ  \n",
    "グラフ$G$とフロー $f$が与えられる時，その残余グラフ$G_f$は頂点間の辺を流れるフローをどう変えることができるか表すグラフであると言える．$G$の辺$u,v$は，その間で流すことが可能な容量$c(u,v)$から，その間に実際流れているフロー$f(u,v)$を引いた値がその頂点間でまだ流せる量であり，残余グラフにおいては，これが正であるならば新たな辺としてグラフに書き表す．また，2頂点間に流れているフローを減らしたい場合も考えられるので，その時点で流れている$f(u,v)$は，残余グラフにおいては$v$から$u$方向に伸びて容量が$f(u,v)$である辺も追加する．以下は，残余グラフの例である．  \n",
    "![Cormen, Leiserson, C. E., Rivest, R. L., & Stein, C. (2009). Introduction to algorithms (3rd ed.). MIT Press.](residual_graph.jpg)\n"
   ]
  },
  {
   "cell_type": "markdown",
   "metadata": {},
   "source": []
  }
 ],
 "metadata": {
  "language_info": {
   "name": "python"
  },
  "orig_nbformat": 4
 },
 "nbformat": 4,
 "nbformat_minor": 2
}
