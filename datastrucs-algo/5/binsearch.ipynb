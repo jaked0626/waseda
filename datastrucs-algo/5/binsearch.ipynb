{
 "cells": [
  {
   "cell_type": "markdown",
   "metadata": {},
   "source": [
    "# Binary Search  \n",
    "**Def**: To find a solution through narrowing the search area by halves.  \n",
    "  \n",
    "## Sorted Array  \n",
    "\n",
    "In a sorted array, the method we saw in the age guessing game works well. That is, start from the left most index and right most index, take the average to get the median index, if the target is greater than (or less than) said index, update the left most (right most) index accordingly. "
   ]
  },
  {
   "cell_type": "code",
   "execution_count": 2,
   "metadata": {},
   "outputs": [
    {
     "name": "stdout",
     "output_type": "stream",
     "text": [
      "3\n"
     ]
    }
   ],
   "source": [
    "def bin_search(array, tgt):\n",
    "    right = len(array) - 1\n",
    "    left = 0\n",
    "    while right >= left:\n",
    "        mid = (right + left) // 2\n",
    "        if array[mid] == tgt: return mid\n",
    "        elif array[mid] > tgt: right = mid - 1\n",
    "        elif array[mid] < tgt: left = mid + 1\n",
    "\n",
    "    return \"Not found\"\n",
    "\n",
    "# test\n",
    "print(bin_search([1,2,3, 4, 5], 4 ))\n",
    "\n"
   ]
  },
  {
   "cell_type": "markdown",
   "metadata": {},
   "source": [
    "The above code takes $k$ times to guess an array of length $2^k$. Then, since $N = 2^k$, the number of computations it undergoes is $k = \\log_2 N \\approx \\log N$ making the complexity \n",
    "$$O(\\log N)$$"
   ]
  },
  {
   "cell_type": "markdown",
   "metadata": {},
   "source": [
    "A more generalized def of binary search.  \n",
    "**Def**: For each integer $x$ we are give a boolean condition $P$. Of the integers, we are given integers $l$ and $r$ where $l < r$, and the below holds: \n",
    "* $P(l) =$ false  \n",
    "* $P(r) =$ true\n",
    "* $\\exists M \\; (l < M \\le r) \\ni$\n",
    "    + $\\forall x < M, P(x) = \\text{false}$\n",
    "    + $\\forall x \\ge M, P(x) = \\text{true}.$  \n",
    "    \n",
    "In this case, we set $D= r - l$ and the binary search algorithm can identify $M$ in $O(\\log D)$"
   ]
  },
  {
   "cell_type": "code",
   "execution_count": null,
   "metadata": {},
   "outputs": [],
   "source": [
    "def gen_bin_search(array, P):\n",
    "    \"\"\"\n",
    "    Inputs:\n",
    "      array (lst): arrray to search\n",
    "      P (function): boolean function that evaluates elements in array.\n",
    "    Returns the lowest integer where P evaluates to true. \n",
    "    \"\"\"\n",
    "    left = array[0]\n",
    "    right = array[-1]\n",
    "    while (right - left > 1):\n",
    "        mid = left + (right - left) / 2\n",
    "        if P(mid): \n",
    "            right = mid\n",
    "        else:\n",
    "            left = mid\n",
    "    return right"
   ]
  },
  {
   "cell_type": "code",
   "execution_count": null,
   "metadata": {},
   "outputs": [],
   "source": [
    "def gen_bin_search(array, P, err):\n",
    "    \"\"\"\n",
    "    Inputs:\n",
    "      array (lst): arrray to search\n",
    "      P (function): boolean function that evaluates elements in array.\n",
    "      err (float): tolerated error\n",
    "    Returns the lowest integer where P evaluates to true. \n",
    "    \"\"\"\n",
    "    left = array[0]\n",
    "    right = array[-1]\n",
    "    while (right - left > err):\n",
    "        mid = left + (right - left) / 2\n",
    "        if P(mid): \n",
    "            right = mid\n",
    "        else:\n",
    "            left = mid\n",
    "    return right"
   ]
  },
  {
   "cell_type": "markdown",
   "metadata": {},
   "source": [
    "A more generalized approach:  \n",
    "\n",
    "**Def**: We are given a continuous function $f(x)$ over an interval in $\\mathbb{R}$. Given two points in that interval $l, r$ where $l < r$, $f(l)$ and $f(r)$ have different signs (polarity). Then, using the binary method, we can find at least one $x$ such that $f(x) = 0$ at any level of precision. The existence of such a point is proven by the *intermediate value theorem*. "
   ]
  },
  {
   "cell_type": "markdown",
   "metadata": {},
   "source": [
    "## Minimum Value of Pair Sum with Lower Bound  \n",
    "\n",
    "The problem can be stated as such: \n",
    "> Suppose we have N integers represented by $a_i\\;(i= 0, ..., N-1)$, and another $N$ integers represented by $b_i \\;(i=0, ..., N-1)$.  \n",
    "> Suppose we choose an integer from each sequence and calculate its sum.  \n",
    "> Of all possible sums, determine the minimum sum that is above a certain threshold $K$. "
   ]
  },
  {
   "cell_type": "markdown",
   "metadata": {},
   "source": [
    "To solve this, first we sort the elements in $b_i$. This takes $O(N\\log N)$.   \n",
    "Then, we fix $a_i$, and iterate through the lowest element in $b_i$ such that $b_i \\ge K - a_i$.  \n",
    "\n",
    "By using our abovemetioned general binary search algorithm, we can get the lower bound of $b_i$ in $O(\\log N)$. Since we repeat this for each $a_i$, which there are $N$ of, the overall time complexity is $O(N \\log N)$. Added to the earlier sorting time complexity, this remains the same (scalar multiples do not factor in). "
   ]
  },
  {
   "cell_type": "code",
   "execution_count": 32,
   "metadata": {},
   "outputs": [
    {
     "name": "stdout",
     "output_type": "stream",
     "text": [
      "9\n",
      "13\n",
      "0\n"
     ]
    }
   ],
   "source": [
    "import math\n",
    "import bisect\n",
    "\n",
    "def pair_sum_min(a, b, K):\n",
    "    min_sum = math.inf\n",
    "    b = sorted(b)\n",
    "    n = len(b)\n",
    "    for ai in a:\n",
    "        i = bisect.bisect_left(b, K - ai) # lowerbound function\n",
    "        #print(ai, bi)\n",
    "        if i < n:\n",
    "            min_sum = min(min_sum, ai + b[i])\n",
    "    return min_sum\n",
    "\n",
    "print(pair_sum_min([3, 4, 5, 6, 5, 7], [10, 20, 30, 14, 50, 34], 10))\n"
   ]
  },
  {
   "cell_type": "markdown",
   "metadata": {},
   "source": [
    "## From Optimization to Classification  \n",
    "\n",
    "We convert the last optimization problem \"find optimum of $x$ that satisfies such and such condition$ to a classification problem \"determine whether $x$ satisifies condition$. Then, we can use the binary algorithm to locate the optimum in $O(\\log N)$ time.  \n",
    "\n",
    "### Shooting King  \n",
    ">There are $N$ baloons each with initial altitude $H_i$, and rising $S_i$ per second. The objective is to shoot and pop every of these balloons.  \n",
    ">You are allowed to pop one balloon the moment the game starts, and from there you may pop 1 balloon per second. The order of balloons you pop is up to you.   \n",
    ">However, there will be a penalty for popping each balloon, which is its altitude, and the overall penalty is the maximum penalty you incur during the game.  \n",
    ">You would like to minimize this penalty whilst popping all balloons.   \n",
    ">>$H_i, S_i > 0$\n",
    "\n",
    "The trick is to convert the above optimization to a classification problem:  \n",
    "> Given $x$, is it possible to pop all balloons while keeping the penalty below $x$ for each one?  \n",
    "\n",
    "Once we code the solution to the above, the actual solution can be derived via binary search as below:  \n",
    "> Let left = 0, right = $\\max (H_0 + (N-1)S_0, \\cdots, H_{N-1} + (N-1) S_{N-1})$ (max possible altitude when the game ends at $t = N-1$).   \n",
    ">The solution here is $O(\\log(right - left))$\n",
    "\n",
    "\n"
   ]
  },
  {
   "cell_type": "code",
   "execution_count": null,
   "metadata": {},
   "outputs": [],
   "source": [
    "def can_pop(x, h, s):\n",
    "    \"\"\"\n",
    "    Sorting takes O(NlogN)\n",
    "    Everything else is O(N)\n",
    "    \"\"\"\n",
    "    res = True\n",
    "    n = len(h)\n",
    "    time_left = [0] * n\n",
    "    # populate time left to pop each balloon\n",
    "    for i in range(n):\n",
    "        if h[i] > x: # the initial height already violates upper bound\n",
    "            return False\n",
    "        else:\n",
    "            time_left[i] = (x - h[i]) / s[i] # dist left to hit upper bound divided by rate of ascension\n",
    "    time_left = sorted(time_left)\n",
    "    for t in range(n):\n",
    "        # pop balloons based on their time left\n",
    "        # one balloon each second \n",
    "        # if t > time_left, that means we did not pop in time\n",
    "        if t > time_left[t]:\n",
    "            res = False\n",
    "            break\n",
    "\n",
    "    return res\n",
    "\n",
    "def shooter_min(h, s):\n",
    "    n = len(h)\n",
    "    left = 0\n",
    "    right = max([h[i] + (n-1) * s[i] for i in range(n)])\n",
    "    while (right - left) > 1:\n",
    "        mid = (left + right) / 2\n",
    "        if can_pop(mid, h, s):\n",
    "            right = mid\n",
    "        else:\n",
    "            left = mid\n",
    "    return right\n",
    "\n"
   ]
  },
  {
   "cell_type": "markdown",
   "metadata": {},
   "source": [
    "In the above program, can_pop takes $O(N\\log N)$ and the binary search takes $O(\\log M)$ where $M = right - left$. So overall, \n",
    "$$O(N\\log N \\log M)$$"
   ]
  },
  {
   "cell_type": "markdown",
   "metadata": {},
   "source": [
    "What we know from the above problem is that it is formatted in a way such that we are minimizing the maximum of $N$ variables (mini-max). This is a common optimization problem, applicable to problems such as minimizing the maximum number of working hours of $N$ workers. "
   ]
  },
  {
   "cell_type": "markdown",
   "metadata": {},
   "source": []
  }
 ],
 "metadata": {
  "interpreter": {
   "hash": "73df3d2a648ddfe6e132dd0b2981f8c5ee01eb57f65aaa52301d101a94b0ebb5"
  },
  "kernelspec": {
   "display_name": "Python 3.8.3 64-bit ('base': conda)",
   "language": "python",
   "name": "python3"
  },
  "language_info": {
   "codemirror_mode": {
    "name": "ipython",
    "version": 3
   },
   "file_extension": ".py",
   "mimetype": "text/x-python",
   "name": "python",
   "nbconvert_exporter": "python",
   "pygments_lexer": "ipython3",
   "version": "3.8.3"
  },
  "orig_nbformat": 4
 },
 "nbformat": 4,
 "nbformat_minor": 2
}
