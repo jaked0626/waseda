{
 "cells": [
  {
   "cell_type": "markdown",
   "metadata": {},
   "source": [
    "# Sort  \n",
    "\n",
    "How to assess sorting algorithms:  \n",
    "\n",
    "* Time complexity  \n",
    "* Memory usage. In-place: no extra memory used.  \n",
    "* Stability: does not needlessly change ordering of equivalent values.  \n",
    "\n",
    "## Bogosort  \n",
    "\n",
    "1. Check if given array is sorted  \n",
    "2. If not, shuffle and repeat.  \n",
    "\n",
    "$O(\\infty)$ (Average time complexity $O(n\\cdot n!)$)\n"
   ]
  },
  {
   "cell_type": "markdown",
   "metadata": {},
   "source": [
    "## Insertion sort  \n",
    "\n",
    "Iterate from beginning of array, compare $x+1$ th element with all preceding $x$ elements. Insert $x+1$ th element in appropriate place.  \n",
    "\n"
   ]
  },
  {
   "cell_type": "code",
   "execution_count": 2,
   "metadata": {},
   "outputs": [
    {
     "name": "stdout",
     "output_type": "stream",
     "text": [
      "[5, 6, 11, 12, 13]\n"
     ]
    }
   ],
   "source": [
    "\n",
    "def insertionSort(arr):\n",
    " \n",
    "    # Traverse through 1 to len(arr)\n",
    "    for i in range(1, len(arr)):\n",
    " \n",
    "        key = arr[i]\n",
    " \n",
    "        # Move elements of arr[0..i-1], that are\n",
    "        # greater than key, to one position ahead\n",
    "        # of their current position\n",
    "        j = i-1\n",
    "        while j >= 0 and key < arr[j] :\n",
    "                arr[j + 1] = arr[j]\n",
    "                j -= 1\n",
    "        arr[j + 1] = key\n",
    " \n",
    " \n",
    "# Driver code to test above\n",
    "arr = [12, 11, 13, 5, 6]\n",
    "insertionSort(arr)\n",
    "print(arr)\n"
   ]
  },
  {
   "cell_type": "markdown",
   "metadata": {},
   "source": [
    "* Time complexity is $O(N^2)$  \n",
    "* Fast for mostly sorted arrays and arrays with few ($\\le 10$) elements.  \n",
    "* in-place sort, stable. "
   ]
  },
  {
   "cell_type": "markdown",
   "metadata": {},
   "source": [
    "## Merge Sort  \n",
    "\n",
    "```\n",
    "MergeSort(arr[], l,  r)\n",
    "If r > l\n",
    "     1. Find the middle point to divide the array into two halves:  \n",
    "             middle m = l+ (r-l)/2\n",
    "     2. Call mergeSort for first half:   \n",
    "             Call mergeSort(arr, l, m)\n",
    "     3. Call mergeSort for second half:\n",
    "             Call mergeSort(arr, m+1, r)\n",
    "     4. Merge the two halves sorted in step 2 and 3:\n",
    "             Call merge(arr, l, m, r)\n",
    "```\n",
    "\n"
   ]
  },
  {
   "cell_type": "code",
   "execution_count": 3,
   "metadata": {},
   "outputs": [
    {
     "name": "stdout",
     "output_type": "stream",
     "text": [
      "[17, 20, 26, 31, 44, 54, 55, 77, 93]\n"
     ]
    }
   ],
   "source": [
    "def mergeSort(myList):\n",
    "    if len(myList) > 1:\n",
    "        mid = len(myList) // 2\n",
    "        left = myList[:mid]\n",
    "        right = myList[mid:]\n",
    "\n",
    "        # Recursive call on each half\n",
    "        mergeSort(left)\n",
    "        mergeSort(right)\n",
    "\n",
    "        # Two iterators for traversing the two halves\n",
    "        i = 0\n",
    "        j = 0\n",
    "        \n",
    "        # Iterator for the main list\n",
    "        k = 0\n",
    "        \n",
    "        while i < len(left) and j < len(right):\n",
    "            if left[i] <= right[j]:\n",
    "              # The value from the left half has been used\n",
    "              myList[k] = left[i]\n",
    "              # Move the iterator forward\n",
    "              i += 1\n",
    "            else:\n",
    "                myList[k] = right[j]\n",
    "                j += 1\n",
    "            # Move to the next slot\n",
    "            k += 1\n",
    "\n",
    "        # For all the remaining values\n",
    "        while i < len(left):\n",
    "            myList[k] = left[i]\n",
    "            i += 1\n",
    "            k += 1\n",
    "\n",
    "        while j < len(right):\n",
    "            myList[k]=right[j]\n",
    "            j += 1\n",
    "            k += 1\n",
    "\n",
    "myList = [54,26,93,17,77,31,44,55,20]\n",
    "mergeSort(myList)\n",
    "print(myList)"
   ]
  },
  {
   "cell_type": "markdown",
   "metadata": {},
   "source": [
    "* Time complexity $O(\\log N)$  \n",
    "* Requires extra memory  \n",
    "* Stable.  \n",
    "\n"
   ]
  },
  {
   "cell_type": "markdown",
   "metadata": {},
   "source": [
    "Proof of Merge sort's time complexity:  \n",
    "\n",
    "Let $T(N)$ be the time complexity of merge sort.  \n",
    "\\begin{align*}\n",
    "T(1) &= O(1) \\\\\n",
    "T(N) &= 2T(N/2) + O(N) \\\\\n",
    "\\end{align*}\n",
    "More abstractly, \n",
    "\\begin{align*}\n",
    "T(1) &= c \\\\\n",
    "T(N) &= aT(N/b) + dN \\\\\n",
    "\\end{align*}\n"
   ]
  },
  {
   "cell_type": "markdown",
   "metadata": {},
   "source": [
    "(Merge sort is a special example of the above case where $a = b = 2$)"
   ]
  },
  {
   "cell_type": "markdown",
   "metadata": {},
   "source": [
    "Proof.  \n",
    "WLOG let $N = b^k$\n",
    "\\begin{align*}\n",
    "T(N) \n",
    "&= aT (\\frac{N}{b}) + dN \\\\\n",
    "&= a \\underbrace{\\left(aT(\\frac{N}{b^2}) + d \\frac{N}{b}\\right)}_{= T(\\frac{N}{b})} + dN \\\\\n",
    "&\\vdots \\\\\n",
    "&= a\\left(a(\\dots a(aT(\\frac{N}{b^k}) + d\\frac{N}{b^{k-1}}) + d\\frac{N}{b^{k-2}} + \\dots) + d\\frac{N}{b}\\right) + dN \\\\\n",
    "&= ca^k + dN\\left(1 + \\frac{a}{b} + (\\frac{a}{b})^2 + \\dots + (\\frac{a}{b})^{k-1}\\right) \\\\\n",
    "&= cN^{\\log _b a} + dN\\left(1 + \\frac{a}{b} + (\\frac{a}{b})^2 + \\dots + (\\frac{a}{b})^{k-1}\\right)\n",
    "\\end{align*}"
   ]
  },
  {
   "cell_type": "markdown",
   "metadata": {},
   "source": [
    "Thus, when \n",
    "* $a < b$: $T(N) = O(N)$  \n",
    "* $a = b$: $T(N) = O(N\\log N)$  \n",
    "$$cN^{\\log _b a} + dN\\left(1 + \\frac{a}{b} + (\\frac{a}{b})^2 + \\dots + (\\frac{a}{b})^{k-1}\\right) \\\\\n",
    "= c N^1 + dN\\underbrace{(1 + 1 + \\dots + 1)}_{k = \\log N}$$\n",
    "* $a > b$: $T(N) = O(N^{\\log_b a})$  \n"
   ]
  },
  {
   "cell_type": "markdown",
   "metadata": {},
   "source": []
  }
 ],
 "metadata": {
  "interpreter": {
   "hash": "73df3d2a648ddfe6e132dd0b2981f8c5ee01eb57f65aaa52301d101a94b0ebb5"
  },
  "kernelspec": {
   "display_name": "Python 3.8.3 64-bit ('base': conda)",
   "language": "python",
   "name": "python3"
  },
  "language_info": {
   "codemirror_mode": {
    "name": "ipython",
    "version": 3
   },
   "file_extension": ".py",
   "mimetype": "text/x-python",
   "name": "python",
   "nbconvert_exporter": "python",
   "pygments_lexer": "ipython3",
   "version": "3.8.3"
  },
  "orig_nbformat": 4
 },
 "nbformat": 4,
 "nbformat_minor": 2
}
