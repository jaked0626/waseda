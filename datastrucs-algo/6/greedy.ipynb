{
 "cells": [
  {
   "cell_type": "markdown",
   "metadata": {},
   "source": [
    "# Greedy Algorithm  \n",
    "\n",
    "**Def**: The algorithm makes the optimal choice at each step as it attempts to find the overall optimal way to solve the entire problem. However, does not ensure global otpimum. \n",
    "\n"
   ]
  },
  {
   "cell_type": "markdown",
   "metadata": {},
   "source": [
    "## Paying with coins:\n",
    "> Pay 1299 yen with as few coins as possible \n",
    "Greedy approach:\n",
    "* Start with the biggest 500 yen. We can use 2. 1000 yen. \n",
    "* Then move to 100 yen. Use 2. 1200 yen.\n",
    "* Then move to 50 yen. Use 1. 1250 yen. \n",
    "* Then move to 10 yen. Use 4. 1290 yen. \n",
    "* Then move to 5 yen. Use 1. 1295 yen. \n",
    "* Finally move to 1 yen. Use 4. 1299 yen. "
   ]
  },
  {
   "cell_type": "code",
   "execution_count": 1,
   "metadata": {},
   "outputs": [
    {
     "name": "stdout",
     "output_type": "stream",
     "text": [
      "[(500, 2), (100, 2), (50, 1), (10, 4), (5, 1), (1, 4)]\n"
     ]
    }
   ],
   "source": [
    "def greedyCoinChanging(M, k):\n",
    "    \"\"\"\n",
    "    Inputs:\n",
    "      M (lst): available denominations\n",
    "      k (int): amount to be paid\n",
    "    \"\"\"\n",
    "    M = sorted(M, reverse=True)\n",
    "    n = len(M)\n",
    "    result = []\n",
    "    for i in range(n):\n",
    "        result += [(M[i], k // M[i])]\n",
    "        k %= M[i] \n",
    "    \n",
    "    return result\n",
    "\n",
    "print(greedyCoinChanging([500, 100, 50, 10, 5, 1], 1299))\n",
    "\n"
   ]
  },
  {
   "cell_type": "markdown",
   "metadata": {},
   "source": [
    "## Interval Scheduling Problem  \n",
    "\n",
    "Suppose we want to derive the maximum of $f(x)$. Then, $\\forall x$ we can derive $x'$ such that $P(x') = $ True, or $x'$ satisfies some condition $P$. Suppose we can show that \n",
    "$$f(x') \\ge f(x)$$ \n",
    "Then, by considering only $x$ which satisfies $P$, we know that the $f(x)$ maximizing $x$ is included in this subset. \n",
    "\n"
   ]
  },
  {
   "cell_type": "markdown",
   "metadata": {},
   "source": [
    "The Interval Scheduling Problem:\n",
    ">The idea is we have a collection of jobs (tasks) to schedule on some machine, and each job $i$ has a given start time $s_i$ and a given finish time $t_i$. If two jobs overlap, we can’t schedule them both. Our goal is to schedule as many jobs as possible on our machine."
   ]
  },
  {
   "cell_type": "markdown",
   "metadata": {},
   "source": [
    "**The Greedy solution**: always add in the job with the *earliest end time*.  \n",
    "\n",
    "Why? Because the interval with the earliest end time produces the maximal capacity to hold rest intervals.  \n",
    "E.g. Suppose current earliest end time of the rest intervals is x. Then available time slot left for other intervals is \\[x:\\]. If we choose another interval with end time y, then available time slot would be \\[y:\\]. Since x ≤ y, there is no way \\[y:\\] can hold more intervals then \\[x:\\]. Thus, the heuristic holds."
   ]
  },
  {
   "cell_type": "markdown",
   "metadata": {},
   "source": [
    "\n",
    ">Proof by induction:  \n",
    ">To prove correctness, we will prove the following invariant: at every step,\n",
    "the solution produced by the algorithm so far is a subset of the jobs scheduled in some optimal solution (i.e., it can be extended to an optimal solution without removing any already-scheduled jobs). We can prove this by induction.  \n",
    "\n",
    "\n",
    ">This invariant is clearly true at the start, when no jobs have yet been scheduled by the algorithm.  \n",
    "\n",
    "\n",
    ">Now, assume it is true after $i$ jobs have been scheduled, and let $S$ be an optimal solution that includes the $i$ jobs scheduled by the algorithm so far. Let $j$ be the job the algorithm schedules next. If $j \\in S$, then we are done—our induction is maintained.  \n",
    "\n",
    ">If $j \\notin S$, let $j' \\in S$ be the job in $S$ with the earliest finish time that is not one of the $i$ jobs scheduled by the algorithm. \n",
    "Notice that job $j'$ must be a candidate job since it does not conflict with any other job in $S$ and $S$ includes all the $i$ jobs scheduled by the algorithm so far. \n",
    ">Therefore it must be the case that the finish time of $j'$ is greater than or equal to the finish time of $j$.  \n",
    ">This in turn means we can modify $S$ to maintain our invariant by removing $j'$ from it and adding $j$. \n",
    ">In particular, $j$ does not conflict with any job in $S$ that starts after $j'$ finishes (since $j$ finishes earlier) and $j$ does not conflict with any job in $S$ that finishes before $j'$ starts (since by definition of $j'$, all such jobs belong to the set of $i$ jobs scheduled by the algorithm, and $j$ does not conflict with any of them).  \n",
    "\n",
    ">So, our invariant is true all the way through the algorithm’s operation, which means that when it halts, it must have found an optimal solution (if it is a strict subset of an optimal solution, then there will still exist at least one candidate job)."
   ]
  },
  {
   "cell_type": "code",
   "execution_count": 1,
   "metadata": {},
   "outputs": [
    {
     "name": "stdout",
     "output_type": "stream",
     "text": [
      "3\n"
     ]
    }
   ],
   "source": [
    "S = [1, 3, 6, 7, 9]\n",
    "T = [3, 8, 7, 10, 11]\n",
    "def scheduling_problem(S, T):\n",
    "    cnt = 0\n",
    "    selected_t = -1 # 現在選択されている仕事の終了時刻\n",
    "    jobs = sorted(list(zip(S, T)), key=lambda x: x[1]) # 終了時刻でソート, O(NlogN)\n",
    "    for s, t in jobs:\n",
    "        if s >= selected_t:\n",
    "            selected_t = t\n",
    "            cnt += 1\n",
    "    return cnt\n",
    "\n",
    "print(scheduling_problem(S,T))"
   ]
  },
  {
   "cell_type": "markdown",
   "metadata": {},
   "source": [
    "Time is $O(N\\log N)$"
   ]
  },
  {
   "cell_type": "markdown",
   "metadata": {},
   "source": [
    "## Multiple Array  \n",
    "\n",
    "> There is an integer sequence $A_0, \\dots, A_{N-1}$ consisting of $N$ terms and $N$ buttons. When the $i$-th ($1 \\le i \\le N$) button is pressed, the values of the $i$ terms from the first through the $i$-th are all incremented by $1$.  \n",
    "\n",
    ">There is also another integer sequence $B_0, \\dots, B_{N-1}$ where all elements are greater than or equal to $1$. Takahashi will push the buttons some number of times so that for every $i$, $A_i$ will be a multiple of $B_i$.  \n",
    "\n",
    ">Find the minimum number of times Takahashi must press the buttons. "
   ]
  },
  {
   "cell_type": "markdown",
   "metadata": {},
   "source": [
    "In this problem, let $D_0, D_1, \\dots, D_{N-1}$ be the number of times each button $i$ is pressed. Then, the conditions for solving this problem are:\n",
    "* $A_0 + (D_0 + D_1 + \\cdots + D_{N-1}) =$ multiple of $B_0$ \n",
    "* $A_1 + (D_1 + D_2 + \\cdots + D_{N-1}) =$ multiple of $B_1$ \n",
    "* $\\vdots$\n",
    "* $A_{N-1} + D_{N-1} =$ multiple of $B_{N-1}$ \n",
    "Then, the value $D_{N-1}$ should take is:\n",
    "* If $A_{N-1}$ is already a multiple of $B_{N-1}$:\n",
    "    + $D_{N-1} = 0, B_{N-1}, 2B_{N-1}, \\dots$\n",
    "* Otherwise, let $A_{N-1}$ \\% $B_{N-1} = r$:\n",
    "    + $D_{N-1} = B_{N-1} - r, 2B_{N-1} - r, \\dots$\n",
    "Since we do not need to needlessly increase $D$, our method should simply add 0 or $B - r$. "
   ]
  },
  {
   "cell_type": "code",
   "execution_count": null,
   "metadata": {},
   "outputs": [],
   "source": [
    "def mularray(A, B):\n",
    "    pushes = 0\n",
    "    N = len(A)\n",
    "    for i in range(N-1, -1, -1):\n",
    "        r = A[i] % B[i]\n",
    "        if not r:\n",
    "            pushes += 0\n",
    "        else:\n",
    "            pushes += (B[i] - r)\n",
    "    return pushes"
   ]
  },
  {
   "cell_type": "markdown",
   "metadata": {},
   "source": []
  },
  {
   "cell_type": "markdown",
   "metadata": {},
   "source": [
    "$O(N)$ time."
   ]
  },
  {
   "cell_type": "markdown",
   "metadata": {},
   "source": []
  }
 ],
 "metadata": {
  "interpreter": {
   "hash": "73df3d2a648ddfe6e132dd0b2981f8c5ee01eb57f65aaa52301d101a94b0ebb5"
  },
  "kernelspec": {
   "display_name": "Python 3.8.3 64-bit ('base': conda)",
   "language": "python",
   "name": "python3"
  },
  "language_info": {
   "codemirror_mode": {
    "name": "ipython",
    "version": 3
   },
   "file_extension": ".py",
   "mimetype": "text/x-python",
   "name": "python",
   "nbconvert_exporter": "python",
   "pygments_lexer": "ipython3",
   "version": "3.8.3"
  },
  "orig_nbformat": 4
 },
 "nbformat": 4,
 "nbformat_minor": 2
}
