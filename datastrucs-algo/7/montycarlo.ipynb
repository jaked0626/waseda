{
 "cells": [
  {
   "cell_type": "markdown",
   "metadata": {},
   "source": [
    "# Randomized Algorithms and Monte Carlo Methods  \n",
    "\n",
    "**Def**: A randomized algorithm is an algorithm that employs a degree of randomness as part of its logic or procedure. Of which, algorithms that have a chance of producing an incorrect result are called *Monte Carlo methods*. \n",
    "\n"
   ]
  },
  {
   "cell_type": "markdown",
   "metadata": {},
   "source": [
    "Computers cannot simulate complete randomness. They can only achieve pseudorandomness. "
   ]
  },
  {
   "cell_type": "markdown",
   "metadata": {},
   "source": [
    "## Linear Congruential Generators (LCGs)\n",
    "\n",
    "Computers simulate randomness with the following method:\n",
    "$$x_{i+1} = ax_i + b \\mod p$$\n",
    "where $a,b,p$ are given. To get $N$ random numbers, calculate this sequence for $N$ terms. "
   ]
  },
  {
   "cell_type": "markdown",
   "metadata": {},
   "source": [
    "Since these random numbers depend on $x_0$, we set the initial $x_0$ (seed). "
   ]
  },
  {
   "cell_type": "markdown",
   "metadata": {},
   "source": [
    "## Applications: Calculating Pi  \n",
    "\n",
    "* Take two random numbers from $Uni[1, 1]$. Graph them as coordinates in a coordinate space. Note that coordinates taken as such are confined to a square with sides of length 2, and area of 4.   \n",
    "* Calculate how many of such coordinates lie within a circle of radius 1. \n",
    "* By area ratio, the number of points within the circle (call it $M$) versus the total number of points $N$ should be \n",
    "$$\\frac{M}{N} = \\frac{\\pi}{4}$$\n",
    "\n"
   ]
  },
  {
   "cell_type": "markdown",
   "metadata": {},
   "source": [
    "![](pi.jpg)"
   ]
  },
  {
   "cell_type": "markdown",
   "metadata": {},
   "source": [
    "## Applications: Calculating Matrix Products  \n",
    "\n",
    "Given matrices $A, B, C$ of size $N \\times N$, we want to see if $AB = C$. The calculation of $AB$ takes $O(N^3)$ and the collation process takes $O(N)$.   \n",
    "\n",
    "Introduce vector $x$ with $N$ elements where each element takes on values $0$ or $1$ randomly.  \n",
    "Then, we calculate $ABx = Cx$ and evaluate the original expression.  \n",
    "Since $ABx = A(Bx)$ and $Bx$ is a vector, $A(Bx)$ is calculated at $O(N^2)$ time.  \n",
    "\n",
    "When $AB = C$, they are the same answer. When $AB \\ne C$, there is at most a $\\frac{1}{2}$ chance that the answer will evaluate to the same (even if we assume the false positive is as likely as the true positive). \n",
    "\n",
    "At the very least, if we get $ABx \\ne Cx$, we know for certain that $AB \\ne C$. \n"
   ]
  }
 ],
 "metadata": {
  "language_info": {
   "name": "python"
  },
  "orig_nbformat": 4
 },
 "nbformat": 4,
 "nbformat_minor": 2
}
