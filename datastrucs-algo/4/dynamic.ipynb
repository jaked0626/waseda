{
 "cells": [
  {
   "cell_type": "markdown",
   "metadata": {},
   "source": [
    "# Dynamic Programming  \n",
    "\n",
    "**Def**: simplifying a complicated problem by breaking it down into simpler sub-problems in a recursive manner, memoing the solutions to the subproblems, and aggregating them for a holistic solution. "
   ]
  },
  {
   "cell_type": "markdown",
   "metadata": {},
   "source": [
    "## Frog Problem  \n",
    ">There are $N$ stones, numbered $1,2,…,N$. For each $i \\; (1\\le i\\le N)$, the height of Stone $i$ is $h_i$.\n",
    "\n",
    ">There is a frog who is initially on Stone 1. He will repeat the following action some number of times to reach Stone $N$:\n",
    "\n",
    ">If the frog is currently on Stone $i$, jump to Stone $i+1$ or Stone $i+2$. Here, a cost of $|h_i - h_j|$ is incurred, where $j$ is the stone to land on.\n",
    ">Find the minimum possible total cost incurred before the frog reaches Stone $N$."
   ]
  },
  {
   "cell_type": "markdown",
   "metadata": {},
   "source": [
    "We will go about solving this by finding the optimal path to each node (stone), which is a binary decision (leap from previous stone or one before, comparing cost of optimal path to get to each and the cost to get from each to the target stone). "
   ]
  },
  {
   "cell_type": "code",
   "execution_count": 4,
   "metadata": {},
   "outputs": [
    {
     "name": "stdout",
     "output_type": "stream",
     "text": [
      "8\n"
     ]
    }
   ],
   "source": [
    "def frog(H):\n",
    "    N = len(H)\n",
    "    opt = [0] * N\n",
    "    # cost to get to 0th node is 0. we start with 1th node.\n",
    "    for i in range(1, N):\n",
    "        if i == 1:\n",
    "            opt[i] = H[i] - H[i-1] # H[1] - H[0]\n",
    "        else:\n",
    "            temp1 = abs(H[i] - H[i - 1]) + opt[i-1]\n",
    "            temp2 = abs(H[i] - H[i - 2]) + opt[i-2]\n",
    "            opt[i] = min(temp1, temp2) # relaxation\n",
    "\n",
    "    return opt[N-1]\n",
    "\n",
    "print(frog([1, 2, 4, 4, 5, 3, 4, 7]))\n",
    "        \n"
   ]
  },
  {
   "cell_type": "markdown",
   "metadata": {},
   "source": [
    "The computational complexity is $O(N)$.  \n",
    "The above implementation is pull-based (think of $i$ when $i-1$, $i-2$ are known) but the implementation could also be push-based (think of $i + 1$, $i + 2$ when $i$ is known).\n",
    "When optimality is derived through the optimality of smaller subparts as in the question above, the problem is said to have *optimal substructure*.  \n",
    "\n"
   ]
  },
  {
   "cell_type": "markdown",
   "metadata": {},
   "source": [
    "The problem can also be solved making use of a recursive executive search with a memo.  \n",
    "What this does is essentially the same as the dynamic programming solution. "
   ]
  },
  {
   "cell_type": "markdown",
   "metadata": {},
   "source": [
    "## Knapsack Problem  \n",
    "\n",
    "> Given a set of items, each with a weight and a value, determine the number of each item to include in a collection so that the total weight is less than or equal to a given limit and the total value is as large as possible."
   ]
  },
  {
   "cell_type": "markdown",
   "metadata": {},
   "source": [
    "The standard method of dynamic programming: \n",
    "1. Recursive solution \n",
    "2. Memo intermediate results"
   ]
  },
  {
   "cell_type": "markdown",
   "metadata": {},
   "source": [
    "In this case, we look at each item and consider two cases: one in which we include the item, and one in which we exclude it, opting for the maximizing option. We do this recursively at every node, so that the end result gives us a global maxima. "
   ]
  },
  {
   "cell_type": "code",
   "execution_count": 17,
   "metadata": {},
   "outputs": [
    {
     "name": "stdout",
     "output_type": "stream",
     "text": [
      "item1 - wt: 2; val: 3\n",
      "item2 - wt: 1; val: 2\n",
      "item3 - wt: 3; val: 6\n",
      "item4 - wt: 2; val: 1\n",
      "item5 - wt: 1; val: 3\n",
      "item6 - wt: 5; val: 85\n",
      "items available (i)/weight limit (w)\n",
      "   0   1   2   3   4   5   6   7   8   9   10  11  12  13   14\n",
      "0   0   0   0   0   0   0   0   0   0   0   0   0   0   0    0\n",
      "1   0   0   3   3   3   3   3   3   3   3   3   3   3   3    3\n",
      "2   0   2   3   5   5   5   5   5   5   5   5   5   5   5    5\n",
      "3   0   2   3   6   8   9  11  11  11  11  11  11  11  11   11\n",
      "4   0   2   3   6   8   9  11  11  12  12  12  12  12  12   12\n",
      "5   0   3   5   6   9  11  12  14  14  15  15  15  15  15   15\n",
      "6   0   3   5   6   9  85  88  90  91  94  96  97  99  99  100\n"
     ]
    }
   ],
   "source": [
    "import pandas as pd\n",
    "def knapSack(W, wt, val, n):\n",
    "    \"\"\"\n",
    "    W (int): maximum weight\n",
    "    wt (list): list of weights of each item\n",
    "    val (list): list of value(price) of each item\n",
    "    n: number of items\n",
    "    \"\"\"\n",
    "    K = [[0 for x in range(W + 1)] for x in range(n + 1)]\n",
    " \n",
    "    # Build table K[][] in bottom up manner\n",
    "    for i in range(n + 1): # i will form the y axis\n",
    "        for w in range(W + 1): # w will form the x axis\n",
    "            if i == 0 or w == 0:\n",
    "                K[i][w] = 0 # the 0th item or the 0th weight limit will always yield 0 packed items\n",
    "            elif wt[i-1] <= w: # i - 1 to control for the x and y axes populated by 0\n",
    "                K[i][w] = max(val[i-1]\n",
    "                          + K[i-1][w-wt[i-1]], \n",
    "                              K[i-1][w])\n",
    "            else:\n",
    "                K[i][w] = K[i-1][w]\n",
    " \n",
    "    return K\n",
    " \n",
    " \n",
    "# Driver code\n",
    "val = [3, 2, 6, 1, 3, 85]\n",
    "wt = [2, 1, 3, 2, 1, 5]\n",
    "W = 14\n",
    "n = len(val)\n",
    "df = knapSack(W, wt, val, n)\n",
    "for i in range(n):\n",
    "    print(f\"item{i+1} - wt: {wt[i]}; val: {val[i]}\")\n",
    "print(\"items available (i)/weight limit (w)\")\n",
    "print(pd.DataFrame(df))\n",
    "\n"
   ]
  },
  {
   "cell_type": "markdown",
   "metadata": {},
   "source": [
    "## Edit Distance (Sequence Alignment)\n",
    "\n",
    "**Def**: Given two strings $S, T$, our aim is to convert $S$ into $T$ by repeating the 3 steps below. The minimum number of steps necessary to complete the conversion is the two strings' edit distance. \n",
    "* Update: Change one character in $S$ to any given character\n",
    "* Delete: Choose one character in $S$ and delete it\n",
    "* Insert: Insert one character in any given position in $S$. "
   ]
  },
  {
   "cell_type": "markdown",
   "metadata": {},
   "source": [
    "Say $S=$ logistic, and $T=$ algorithm.  \n",
    "The solution is similar to the knapsack problem, with the following graph structure:\n",
    "![](img.jpg)"
   ]
  },
  {
   "cell_type": "markdown",
   "metadata": {},
   "source": [
    "Just have to find the shortest path!!  "
   ]
  },
  {
   "cell_type": "code",
   "execution_count": 2,
   "metadata": {},
   "outputs": [
    {
     "name": "stdout",
     "output_type": "stream",
     "text": [
      "      a  l  g  o  r  i  t  h  m\n",
      "   0  1  2  3  4  5  6  7  8  9\n",
      "l  1  1  1  2  3  4  5  6  7  8\n",
      "o  2  2  2  2  2  3  4  5  6  7\n",
      "g  3  3  3  2  3  3  4  5  6  7\n",
      "i  4  4  4  3  3  4  3  4  5  6\n",
      "s  5  5  5  4  4  4  4  4  5  6\n",
      "t  6  6  6  5  5  5  5  4  5  6\n",
      "i  7  7  7  6  6  6  5  5  5  6\n",
      "c  8  8  8  7  7  7  6  6  6  6\n"
     ]
    }
   ],
   "source": [
    "import pandas as pd\n",
    "def editDistance(s,t):\n",
    "    s = ' ' + s\n",
    "    t = ' ' + t\n",
    "    S = len(s)\n",
    "    T = len(t)\n",
    "    opt = [[0 for i in range(T)] for j in range(S)]\n",
    "    for i in range(S):\n",
    "        opt[i][0] = i\n",
    "    for j in range (T):\n",
    "        opt[0][j] = j\n",
    "    for j in range(1,T):\n",
    "        for i in range(1,S):\n",
    "            if s[i] == t[j]:\n",
    "                opt[i][j] = opt[i-1][j-1] # 斜め移動が0コスト\n",
    "            else: # check up down and upper left for lowest path\n",
    "                opt[i][j] = min(opt[i-1][j], opt[i][j-1], opt[i-1][j-1]) + 1\n",
    "    return opt\n",
    "\n",
    "# test\n",
    "S = \"logistic\"\n",
    "T = \"algorithm\"\n",
    "df = pd.DataFrame(editDistance(S, T))\n",
    "df.columns = [\"\"] + list(T)\n",
    "df.index = [\"\"] + list(S)\n",
    "print(df)\n",
    "\n",
    "\n",
    "\n"
   ]
  },
  {
   "cell_type": "markdown",
   "metadata": {},
   "source": [
    "## Partitioning  \n",
    "\n",
    "Dynamic Programming is useful in optimizing partitions.  \n",
    "For example, partitioning japanese words \n",
    "> 僕 / は / 君 / を / 愛し / て / いる  \n"
   ]
  },
  {
   "cell_type": "markdown",
   "metadata": {},
   "source": [
    "The problem can be generalized as such:\n",
    "> There is a list of $N$ elements. Each slice (interval) of this element $[l, r)$ has a score $c_{l, r}$.  \n",
    "> Let $K$ be an integer such that $K\\le N$. Then, take $K + 1$ integers $t_0, t_1, \\dots, t_K$ such that $0 = t_0 < t1 < \\cdots < t_K = N$.   \n",
    "> The total score of partitions $[t_0, t_1), [t_1, t_2), \\dots, [t_{K-1}, t_K)$ is \n",
    "$$c_{t_0,t_1} + c_{t_1, t_2} + \\cdots + c_{t_{K-1}, t_K}$$\n",
    ">Minimize the above score"
   ]
  },
  {
   "cell_type": "markdown",
   "metadata": {},
   "source": [
    "Code example in C, given the costs are given.  \n",
    "```\n",
    "// defining DP table\n",
    "vector <long long> dp(N+1, INF);\n",
    "\n",
    "// initial condition\n",
    "dp[0] = 0;\n",
    "\n",
    "// populate DP with loop\n",
    "for (int i = 0; i <= N; ++i) {\n",
    "    for (int j=0; j < i; ++j) {\n",
    "        chmin(dp[i], dp[j] + c[j][i]) \n",
    "        # choose between (so far) optimized cost of partitioning interval [0, i) or optimized partitions of interval [0, j) plus the cost of interval [j, c)\n",
    "    }\n",
    "}\n",
    "```"
   ]
  },
  {
   "cell_type": "markdown",
   "metadata": {},
   "source": [
    "computational complexity is $O(N^2)$"
   ]
  }
 ],
 "metadata": {
  "interpreter": {
   "hash": "73df3d2a648ddfe6e132dd0b2981f8c5ee01eb57f65aaa52301d101a94b0ebb5"
  },
  "kernelspec": {
   "display_name": "Python 3.8.3 64-bit ('base': conda)",
   "language": "python",
   "name": "python3"
  },
  "language_info": {
   "codemirror_mode": {
    "name": "ipython",
    "version": 3
   },
   "file_extension": ".py",
   "mimetype": "text/x-python",
   "name": "python",
   "nbconvert_exporter": "python",
   "pygments_lexer": "ipython3",
   "version": "3.8.3"
  },
  "orig_nbformat": 4
 },
 "nbformat": 4,
 "nbformat_minor": 2
}
