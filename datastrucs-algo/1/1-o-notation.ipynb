{
 "cells": [
  {
   "cell_type": "markdown",
   "metadata": {},
   "source": [
    "## Resources:  \n",
    "* Competitive programming at AtCoder  \n",
    "* Introduction to Algorithms 3rd edition  "
   ]
  },
  {
   "cell_type": "markdown",
   "metadata": {},
   "source": [
    "## What are algorithms?  \n",
    "* Methods and procedures to solve mathematical, analytic problems. "
   ]
  },
  {
   "cell_type": "markdown",
   "metadata": {},
   "source": [
    "# Linear and Binary Search  \n",
    "Think of the following problem:  \n",
    "> You want to find out the age of Ms. A.  \n",
    "> You know that she is in the range of 20~35 (inclusive).  \n",
    "> With a limited number of questions allowed, can you correctly guess the age of A?  "
   ]
  },
  {
   "cell_type": "code",
   "execution_count": 2,
   "metadata": {},
   "outputs": [
    {
     "name": "stdout",
     "output_type": "stream",
     "text": [
      "A is 24 \n",
      " It took 5 guesses to guess that A's age was 24\n"
     ]
    }
   ],
   "source": [
    "# Linear Search \n",
    "import random\n",
    "import math\n",
    "def lin_guess(ages, A):\n",
    "    i = 0 # how many guesses it took\n",
    "    for age in ages:\n",
    "        i += 1\n",
    "        if age == A:\n",
    "            return \"It took {} guesses to guess that A's age was {}\".format(i, age)\n",
    "# testing\n",
    "ages = range(20, 36)\n",
    "A = random.randint(20, 36) # A's true age\n",
    "print(\"A is {} \\n\".format(A), lin_guess(ages, A))\n"
   ]
  },
  {
   "cell_type": "code",
   "execution_count": 3,
   "metadata": {},
   "outputs": [
    {
     "name": "stdout",
     "output_type": "stream",
     "text": [
      "A is 35 \n",
      " It took 5 guesses to guess that A's age was 35\n"
     ]
    }
   ],
   "source": [
    "# Binary Search\n",
    "def bin_guess(ages, A):\n",
    "    mn = ages[0]\n",
    "    mx = ages[-1]\n",
    "    i = 0\n",
    "    found = False\n",
    "    while not found:\n",
    "        mid = (mn + mx) // 2\n",
    "        if A < mid:\n",
    "            mx = mid\n",
    "        elif A > mid:\n",
    "            mn = mid + 1\n",
    "        else:\n",
    "            found = True\n",
    "        i += 1\n",
    "    return \"It took {} guesses to guess that A's age was {}\".format(i, mid)\n",
    "\n",
    "# testing \n",
    "ages = range(20, 36)\n",
    "A = random.randint(20, 36) # A's true age\n",
    "print(\"A is {} \\n\".format(A), bin_guess(ages, A))"
   ]
  },
  {
   "cell_type": "markdown",
   "metadata": {},
   "source": [
    "# Depth-first Search  \n",
    "Depth-first search (DFS) is an algorithm for traversing or searching tree or graph data structures. The algorithm starts at the root node (selecting some arbitrary node as the root node in the case of a graph) and explores as far as possible along each branch before backtracking.  \n",
    "Take the following problem:  \n",
    "$$\n",
    "\\begin{array}{ccc}\n",
    "& 2 & 1 \\\\\n",
    "\\times & \\Box & 2 \\\\\n",
    "\\hline \n",
    "\\Box & 3 & \\Box \\\\\n",
    "\\Box & \\Box & \\\\\n",
    "\\hline\n",
    "\\Box & 4 & \\Box\n",
    "\\end{array}\n",
    "$$\n",
    "Fill in the boxes with digits so that the equation makes sense.  \n",
    "In a depth-first approach, you assume a value for the first box, assume a value for the second box, and so on until you discover a discrepancy, where you return to the preceding box, update its value accordingly, and continue. "
   ]
  },
  {
   "cell_type": "markdown",
   "metadata": {},
   "source": [
    "# Breadth-first Search  \n",
    "Breadth-first search (BFS) is an algorithm for searching a tree data structure for a node that satisfies a given property. It starts at the tree root and explores all nodes at the present depth prior to moving on to the nodes at the next depth level. Extra memory, usually a queue, is needed to keep track of the child nodes that were encountered but not yet explored.  \n",
    "In a width-first search, consider all immediately available options and then consider all the immediate options for each of those options, and so on. "
   ]
  },
  {
   "cell_type": "markdown",
   "metadata": {},
   "source": [
    "# Computational Complexity  \n",
    "When an algorithm's run time is roughly proportional to $P(N)$, we call that algorithm's computational complexity $O(P(N))$.  \n",
    "Suppose an algorithm's run time $T(N)$ is \n",
    "$$T(N) = 3N^2 + 5N + 100$$ \n",
    "the computational complexity, then, is determined by the highest-order term minus the coefficient, so $O(N^2)$.  \n",
    "For example, an algorithm that prints all even values in range(1, N) requires a for-loop that takes $\\frac{N}{2}$ looks through the range. The computational complexity of this algorithm would still be $O(N)$. "
   ]
  },
  {
   "cell_type": "markdown",
   "metadata": {},
   "source": [
    "```\n",
    "# c++ skeleton code for counting even numbers in range(1, N)\n",
    "#include <iostream> \n",
    "using namespace std;\n",
    "\n",
    "int main() {\n",
    "    int N;\n",
    "    cin >> N; // cin stands for console in, and is assigning the console input value to the declared variable N\n",
    "    \n",
    "    for (int i = 2; i <= N; i += 2) {\n",
    "        cout << i << endl; // cout outputs to console, endl is equivalent to end the line (\"\\n\")\n",
    "    }\n",
    "}\n",
    "```"
   ]
  },
  {
   "cell_type": "markdown",
   "metadata": {},
   "source": [
    "Think of the following problem:\n",
    "> Given N coordinates $(x_i, y_i)$ where $(i=0, 1, \\dots, N -1)$, determine the distance of the closest two coordinates.  \n"
   ]
  },
  {
   "cell_type": "markdown",
   "metadata": {},
   "source": [
    "```\n",
    "# c++ skeleton code for coordinate distance minimization\n",
    "\n",
    "#include <iostream>\n",
    "#include <vector>\n",
    "#include <cmath>\n",
    "using namespace std;\n",
    "\n",
    "// function to calculate coordinate distance\n",
    "double calc_dist(double x1, double y2, double x2, double y2) {\n",
    "    return sqrt(pow(x1 - x2, 2) + pow(y1 - y2, 2)) // pow is used for exponents, from cmath\n",
    "}\n",
    "\n",
    "int main() {\n",
    "    //receive input data\n",
    "    int N; cin >> N;\n",
    "    vector<double> x(N), y(N);\n",
    "    for (int i = 0; i < N; i++) cin >> x[i] >> y[i]; // filling up vectors\n",
    "    \n",
    "    // initialize minimum \n",
    "    double min_dist = 10000000000.0;\n",
    "    \n",
    "    // search\n",
    "    for (int i = 0; i < N; i++) {\n",
    "        for (int j = i + 1; j < N; j++) { //covers all combinations\n",
    "            double dist_i_j = calc_dist(x[i], y[i], x[j], y[j]);\n",
    "                                         \n",
    "            if (dist_i_j < min_dist) {\n",
    "                min_dist = dist_i_j;\n",
    "            }\n",
    "        }\n",
    "    }\n",
    "    //output answer\n",
    "    cout << min_dist << endl;\n",
    "}\n",
    "```"
   ]
  },
  {
   "cell_type": "markdown",
   "metadata": {},
   "source": [
    "In the above problem,  \n",
    "* when i = 0, j loops N - 1 times \n",
    "* when i = 1, j loops N - 2 times  \n",
    "$\\vdots$\n",
    "* when i = N - 2, j loops 1 time\n",
    "* when i = N - 1, j loops 0 times  \n",
    "Thus, \n",
    "\\begin{align} \n",
    "T(N) &= (N-1) + (N-2) + \\dots + 1 + 0 \\\\\n",
    "&= \\sum_{k=0} ^{N-1} k  \\\\\n",
    "&= \\sum_{k=1}^N k - N \\\\\n",
    "&= \\frac{1}{2}N(N+1) - N = \\frac{1}2N^2 - \\frac{1}2N\n",
    "\\end{align}\n",
    "Implying that $T(N) = O(N^2)$"
   ]
  },
  {
   "cell_type": "markdown",
   "metadata": {},
   "source": [
    "## Landau's O  \n",
    "Let $T(N)$ and $P(N)$ each denote functions in the field $\\mathbb{N}_0$. Then, $T(N) = O(P(N))$ means that $\\exists\\: c >0, c \\in \\mathbb{R}$ and $m \\in \\mathbb{N}_0$, $\\forall N > m$, the following holds:\n",
    "$$ |\\frac{T(N)}{P(N)}|\\leq c$$\n",
    "  \n",
    "Let's reexamine the case of $T(N) = T(N) = 3N^2 + 5N + 100$  \n",
    "\\begin{align*}\n",
    "\\frac{T(N)}{N} &= 3N + 5 + \\frac{100}N \\dots (1) \\\\\n",
    "\\frac{T(N)}{N^2} &= 3 + \\frac{5}{N} + \\frac{100}{N^2} \\dots (2)\n",
    "\\end{align*}\n",
    "As $N \\to \\inf$, $(1) \\to \\inf$ and cannot be bound above by $c$, but $(2) \\to 3$ and can be bound above by $c = 4$. Thus, $T(N) = O(N^2)$. \n"
   ]
  },
  {
   "cell_type": "markdown",
   "metadata": {},
   "source": [
    "## Caution  \n",
    "* In practice, especially when dealing with small $N$, the coefficient can have considerable influence on run-time, and thus the algorithm with the lowest computational complexity may not always be the fastest.  \n",
    "* The O-notation generally denotes the worst case computational run-time (even in the worst possible case, the algorithm will get the job done in O(x))  \n"
   ]
  },
  {
   "cell_type": "markdown",
   "metadata": {},
   "source": [
    "# Exercises\n",
    "\n",
    "1. Compute the Landau representation of the functions below:  \n",
    "    1. $T_1(N) = 1000N$ <div style=\"text-align: right\"> Ans. $O(N)$ </div>\n",
    "\n",
    "    2. $T_2(N) = 5N^2 + 10N + 7$ <div style=\"text-align: right\"> Ans. $O(N^2)$ </div>\n",
    "\n",
    "    3. $T_3(N) = 4N^2 + 3N\\sqrt{N}$  <div style=\"text-align: right\">Ans. $O(N^2)$</div>\n",
    "\n",
    "    4. $T_4(N) = N\\sqrt{N} + 5N\\log N$  <div style=\"text-align: right\">Ans. $O(N\\sqrt{N})$</div>\n",
    "  \n",
    "    5. $T_5(N) = 2^N + N^{2019}$  <div style=\"text-align: right\">Ans. $O(2^N)$</div>"
   ]
  },
  {
   "cell_type": "markdown",
   "metadata": {},
   "source": [
    "2. Represent the following formula in Landau form: \n"
   ]
  },
  {
   "cell_type": "code",
   "execution_count": null,
   "metadata": {},
   "outputs": [
    {
     "name": "stdout",
     "output_type": "stream",
     "text": [
      "True True False\n"
     ]
    }
   ],
   "source": [
    "import math\n",
    "def is_prime(N):\n",
    "    res = True\n",
    "    if N <= 1:\n",
    "        res = False\n",
    "    fac = 2\n",
    "    while (fac ** 2) < N:\n",
    "        if not N % fac:\n",
    "            res = False\n",
    "            break\n",
    "        fac += 1\n",
    "    return res\n",
    "\n",
    "# test case\n",
    "print(is_prime(3), is_prime(5), is_prime(8))"
   ]
  },
  {
   "cell_type": "markdown",
   "metadata": {},
   "source": [
    "$$\\text{Ans. } O(\\sqrt{N})$$"
   ]
  },
  {
   "cell_type": "markdown",
   "metadata": {},
   "source": [
    "3. Using binary search, indicate that the age of A such that $0 \\le age \\le 2^k$ can be determined within $k$ guesses.  \n",
    "  \n",
    "    Ans. With the binary search algorithm, the number of possibile values the target can take is divided by 2 with each guess. Then, since there are $2^k$ possible values to start with, with each guess we can divide the number of possible values by $2$ to and arrive at 1 option after $k$ guesses ($2^k / 2^k = 1$). "
   ]
  },
  {
   "cell_type": "markdown",
   "metadata": {},
   "source": [
    "4. Let A's age be in $[0, N)$. Show that the binary search method will reveal A's true age in $O(logN)$.  \n",
    "  \n",
    "    Ans. We have already shown that for $0 \\le age \\le 2^k$, the binary search method reveals an answer in maximum $k$ guesses. We can find $k$ such that $N=2^k$. Then, $k = \\log_2 N$, hence $O(\\log N)$."
   ]
  },
  {
   "cell_type": "markdown",
   "metadata": {},
   "source": [
    "5. Show that $\\sum_{n=1} ^N = O(\\log N)$.  \n",
    "\n",
    "    Ans. $\\log N= \\log N - \\log 1 = \\int ^N _1 \\frac{1}{n}$.  \n",
    "    Since $\\sum_{n=1} ^N$ is discrete and the above is continuous, \n",
    "    $$\\sum_{n=1} ^N \\frac{1}{n} < \\int ^N _1 \\frac{1}{n}$$\n",
    "    Thus, the above is $O(\\log N)$\n"
   ]
  }
 ],
 "metadata": {
  "kernelspec": {
   "display_name": "Python 3",
   "language": "python",
   "name": "python3"
  },
  "language_info": {
   "codemirror_mode": {
    "name": "ipython",
    "version": 3
   },
   "file_extension": ".py",
   "mimetype": "text/x-python",
   "name": "python",
   "nbconvert_exporter": "python",
   "pygments_lexer": "ipython3",
   "version": "3.8.3"
  }
 },
 "nbformat": 4,
 "nbformat_minor": 4
}
