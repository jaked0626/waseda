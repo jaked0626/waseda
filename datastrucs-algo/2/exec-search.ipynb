{
 "cells": [
  {
   "cell_type": "markdown",
   "metadata": {},
   "source": [
    "# Executive Search  \n",
    "\n",
    "* Brute force search, list all possible combinations and search.  \n",
    "* Powerful, but inefficient "
   ]
  },
  {
   "cell_type": "markdown",
   "metadata": {},
   "source": [
    "## Linear Search  \n",
    "Take the following problem:\n",
    "> Suppose there are $N$ integers $a_i, (i=0, 1, \\dots, N-1)$.   \n",
    "> Determine if there exists a $j$ such that $a_j = v$. "
   ]
  },
  {
   "cell_type": "code",
   "execution_count": 4,
   "metadata": {},
   "outputs": [
    {
     "name": "stdout",
     "output_type": "stream",
     "text": [
      "5\n"
     ]
    }
   ],
   "source": [
    "# Searching for single target matches\n",
    "\n",
    "def search(lst, tgt):\n",
    "    for i, n in enumerate(lst):\n",
    "        if n == tgt:\n",
    "            return i\n",
    "        \n",
    "# test solution \n",
    "lst = [1, 2, 6, 4, 7, 8]\n",
    "tgt = 8\n",
    "print(search(lst, tgt))"
   ]
  },
  {
   "cell_type": "markdown",
   "metadata": {},
   "source": [
    "Next, we look at pair searches  \n",
    "> Suppose we have N integers represented by $a_i\\;(i= 0, ..., N-1)$, and another $N$ integers represented by $b_i \\;(i=0, ..., N-1)$.  \n",
    "> Suppose we choose an integer from each sequence and calculate its sum.  \n",
    "> Of all possible sums, determine the minimum sum that is above a certain threshold $K$. "
   ]
  },
  {
   "cell_type": "code",
   "execution_count": 1,
   "metadata": {},
   "outputs": [
    {
     "name": "stdout",
     "output_type": "stream",
     "text": [
      "12\n"
     ]
    }
   ],
   "source": [
    "# Searching for pairs  \n",
    "import math\n",
    "def pair_sum_min(a, b, N, K):\n",
    "    minn = math.inf\n",
    "    for i in range(N): \n",
    "        for j in range(N): \n",
    "            if K < a[i] + b[j] < minn:\n",
    "                minn = a[i] + b[j]\n",
    "    return minn \n",
    "\n",
    "# testing solution\n",
    "N=3\n",
    "a = [8, 5, 4] \n",
    "b = [4, 1, 9]\n",
    "K = 10\n",
    "print(pair_sum_min(a,b,N,K))"
   ]
  },
  {
   "cell_type": "markdown",
   "metadata": {},
   "source": [
    "## Combinatorial Searches  \n",
    "Consider the following problem:  \n",
    "> There are $N$ integers $a_i \\; (i = 0, 1, \\dots, N-1)$ and a positive integer $W$.  \n",
    "> Determine if there are any combinations of $a$ that sum up to $W$.  \n"
   ]
  },
  {
   "cell_type": "markdown",
   "metadata": {},
   "source": [
    "We can solve the above using binary representations of integers and bit operations.  \n",
    "Let us assume here (for the sake of expediency) that $N = 3$, and the set of integers is given as $\\{a_0, a_1, a_2\\}$. Then, the subsets of the set can be expressed as below:  \n"
   ]
  },
  {
   "cell_type": "markdown",
   "metadata": {},
   "source": [
    "\n",
    "|subset | binary val | decimal val |  \n",
    "| --- | --- | --- |\n",
    "| $\\emptyset$ | $000$ | 0 |  \n",
    "| $\\{a_0\\}$ | 001 | 1 |  \n",
    "| $\\{a_1\\}$ | 010 | 2 |  \n",
    "| $\\{a_0, a_1\\}$ | 011 | 3 |  \n",
    "| $\\{a_2\\}$ | 100 | 4 | \n",
    "| $\\{a_0, a_2\\}$ | 101 | 5 |   \n",
    "| $\\{a_1, a_2\\}$ | 110 | 6 |\n",
    "| $\\{a_0, a_1, a_2\\}$ | 111 | 7 |    "
   ]
  },
  {
   "cell_type": "markdown",
   "metadata": {},
   "source": [
    "\n",
    "The number of subsets (i.e. the cardinality of the powerset of the given set) is given by  $2^N$. Thus, the subsets can be represented by a decimal integer in the range $[0, 2^N)$.   \n",
    "To retrieve the subset from its assigned integer, we convert the decimal integer into a binary integer and include the elements whose $i$ th place is $1$. This operation can be performed by converting each element $a_i$ as a binary representation (e.g., $a_6$ = $010000000$) and checking if the subset's binary representation includes the element's representation through a bitwise $\\&$ operation. "
   ]
  },
  {
   "cell_type": "code",
   "execution_count": 24,
   "metadata": {},
   "outputs": [
    {
     "name": "stdout",
     "output_type": "stream",
     "text": [
      "True\n",
      "True\n",
      "False\n"
     ]
    }
   ],
   "source": [
    "def combin_search(array, W):\n",
    "    exist = False\n",
    "    N = len(array)\n",
    "    # bit loops through all possible subsets of array\n",
    "    for bit in range(2**N): \n",
    "        sm = 0\n",
    "        #bit = bin(bit)\n",
    "        for i in range(N):\n",
    "            if bit & (1 << i): # shift 1 to left by i bits\n",
    "                sm += array[i]\n",
    "        if sm == W:\n",
    "            exist = True\n",
    "            break\n",
    "    \n",
    "    return exist\n",
    "\n",
    "# test\n",
    "print(combin_search([1, 2, 3, 4], 5))\n",
    "print(combin_search([1, 2, 3, 4], 10))\n",
    "print(combin_search([1, 2, 3, 4], 11))"
   ]
  },
  {
   "cell_type": "markdown",
   "metadata": {},
   "source": [
    "The computational complexity of the above is $O(N2^N)$"
   ]
  },
  {
   "cell_type": "markdown",
   "metadata": {},
   "source": [
    "# Exercises  \n",
    "\n",
    "1. Devise an $O(N)$ program that counts the number of occurrences of $v$ in a given array $A$. "
   ]
  },
  {
   "cell_type": "code",
   "execution_count": null,
   "metadata": {},
   "outputs": [],
   "source": [
    "# Ans.\n",
    "def count_v(A, v):\n",
    "    cnt = 0\n",
    "    for a in A:\n",
    "        if a == v:\n",
    "            cnt += 1\n",
    "    return cnt"
   ]
  },
  {
   "cell_type": "markdown",
   "metadata": {},
   "source": [
    "2. Devise an $O(N)$ program that finds the second smallest integer in an array of integers $A$. "
   ]
  },
  {
   "cell_type": "code",
   "execution_count": 27,
   "metadata": {},
   "outputs": [
    {
     "name": "stdout",
     "output_type": "stream",
     "text": [
      "8\n"
     ]
    }
   ],
   "source": [
    "# ans.\n",
    "import math\n",
    "def second_min(A):\n",
    "    min_1 = math.inf\n",
    "    min_2 = math.inf\n",
    "    for a in A:\n",
    "        if a < min_1:\n",
    "            min_2 = min_1\n",
    "            min_1 = a\n",
    "        elif min_2 > a > min_1:\n",
    "            min_2 = a\n",
    "    return min_2\n",
    "\n",
    "#test\n",
    "print(second_min([5, 67, 8, 49]))"
   ]
  },
  {
   "cell_type": "markdown",
   "metadata": {},
   "source": [
    "3. Given an array of $N$ integers, find two integers whose difference is the largest and return the difference.  \n",
    "Your implementation must be $O(N)$ time."
   ]
  },
  {
   "cell_type": "code",
   "execution_count": 28,
   "metadata": {},
   "outputs": [
    {
     "name": "stdout",
     "output_type": "stream",
     "text": [
      "4\n"
     ]
    }
   ],
   "source": [
    "# ans. \n",
    "def largest_dif(A):\n",
    "    mn, mx = math.inf, -math.inf\n",
    "    for a in A:\n",
    "        if a < mn:\n",
    "            mn = a\n",
    "        elif a > mx:\n",
    "            mx = a\n",
    "    return (mx - mn)\n",
    "    \n",
    "#test\n",
    "print(largest_dif([1, 2, 3, 4 , 5]))"
   ]
  },
  {
   "cell_type": "markdown",
   "metadata": {},
   "source": [
    "4. You are given an array of $N$ integers. Divide each element in the array IF all elements are divisible by 2. Write a program that returns the maximum number of times this process can be repeated given an array. "
   ]
  },
  {
   "cell_type": "code",
   "execution_count": 30,
   "metadata": {},
   "outputs": [
    {
     "name": "stdout",
     "output_type": "stream",
     "text": [
      "2\n"
     ]
    }
   ],
   "source": [
    "# ans.\n",
    "\n",
    "def div_rep(A):\n",
    "    min_count = math.inf\n",
    "    for a in A:\n",
    "        cnt = 0\n",
    "        while not a % 2:\n",
    "            a = a / 2\n",
    "            cnt += 1\n",
    "        if cnt < min_count:\n",
    "            min_count = cnt\n",
    "    return min_count\n",
    "\n",
    "# test\n",
    "print(div_rep([4, 20, 8]))\n",
    "\n",
    "    "
   ]
  },
  {
   "cell_type": "markdown",
   "metadata": {},
   "source": [
    "5. You are given two integers $K, N$. find the number of combinations of integers $(X,Y,Z)$ such that $0\\le X,Y,Z\\le K$ and $X + Y + Z = N$.  \n",
    "Your solution should be in $O(N^2)$ time. "
   ]
  },
  {
   "cell_type": "code",
   "execution_count": 32,
   "metadata": {},
   "outputs": [
    {
     "name": "stdout",
     "output_type": "stream",
     "text": [
      "1\n"
     ]
    }
   ],
   "source": [
    "def find_sum_of_three(K, N):\n",
    "    cnt = 0\n",
    "    for X in range(K + 1):\n",
    "        for Y in range(K + 1):\n",
    "            if 0 <= (N - X - Y) <= K:\n",
    "                cnt += 1\n",
    "    \n",
    "    return cnt\n",
    "\n",
    "# test \n",
    "print(find_sum_of_three(2, 6))"
   ]
  },
  {
   "cell_type": "markdown",
   "metadata": {},
   "source": [
    "6. You are given a string S consisting of digits between 1 and 9, inclusive. You can insert the letter + into some of the positions (possibly none) between two letters in this string. Here, + must not occur consecutively after insertion.   \n",
    "All strings that can be obtained in this way can be evaluated as formulas.  \n",
    "Evaluate all possible formulas, and print the sum of the results."
   ]
  },
  {
   "cell_type": "code",
   "execution_count": 50,
   "metadata": {},
   "outputs": [
    {
     "name": "stdout",
     "output_type": "stream",
     "text": [
      "[0, 0, 0]\n",
      "1234  =  1234\n",
      "[1, 0, 0]\n",
      "1 + 234  =  235\n",
      "[0, 1, 0]\n",
      "12 + 34  =  46\n",
      "[1, 1, 0]\n",
      "1 + 2 + 34  =  37\n",
      "[0, 0, 1]\n",
      "123 + 4  =  127\n",
      "[1, 0, 1]\n",
      "1 + 23 + 4  =  28\n",
      "[0, 1, 1]\n",
      "12 + 3 + 4  =  19\n",
      "[1, 1, 1]\n",
      "1 + 2 + 3 + 4  =  10\n",
      "Total sum: 1736\n"
     ]
    }
   ],
   "source": [
    "def many_formulas(S):\n",
    "    tot_sum = 0\n",
    "    N = len(S)\n",
    "    for subset in range(2 ** (N-1)):\n",
    "        temp_sum = 0\n",
    "        idx_lst = [0] * (N - 1)\n",
    "        \n",
    "        for i in range(N - 1):\n",
    "            if subset & (1 << i):\n",
    "                idx_lst[i] = 1\n",
    "        print(idx_lst)\n",
    "        tot_sum += part_sum(idx_lst, S)\n",
    "    \n",
    "    return tot_sum\n",
    "\n",
    "def part_sum(idx_lst, S):\n",
    "    s = []\n",
    "    temp_sum = 0\n",
    "    i = 0\n",
    "    for j, x in enumerate(idx_lst):\n",
    "        if x:\n",
    "            temp_sum += int(S[i:j+1])\n",
    "            s.append(S[i:j+1])\n",
    "            i = (j+1)\n",
    "    temp_sum += int(S[i:])\n",
    "    s.append(S[i:])\n",
    "    print( \" + \".join(s), \" = \", temp_sum)\n",
    "\n",
    "    return temp_sum\n",
    "\n",
    "# test \n",
    "print(\"Total sum:\", many_formulas(\"1234\"))\n",
    "\n"
   ]
  }
 ],
 "metadata": {
  "kernelspec": {
   "display_name": "Python 3",
   "language": "python",
   "name": "python3"
  },
  "language_info": {
   "codemirror_mode": {
    "name": "ipython",
    "version": 3
   },
   "file_extension": ".py",
   "mimetype": "text/x-python",
   "name": "python",
   "nbconvert_exporter": "python",
   "pygments_lexer": "ipython3",
   "version": "3.8.3"
  }
 },
 "nbformat": 4,
 "nbformat_minor": 4
}
