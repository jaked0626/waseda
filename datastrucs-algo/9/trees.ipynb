{
 "cells": [
  {
   "cell_type": "markdown",
   "metadata": {},
   "source": [
    "# Trees  \n",
    "\n",
    "In computer science, a tree is a widely used abstract data type that simulates a hierarchical tree structure, with a root value and subtrees of children with a parent node, represented as a set of linked nodes.  \n",
    "The tree is nonlinear, and is not cyclical.  \n",
    "* *root*: Portrayed at top of tree.  \n",
    "* *parent*: node one level above (closer to root) present node  \n",
    "* *child*: node one level below (further from root) present node  \n",
    "* *leaf*: bottom level nodes, with only one edge connecting them to parent.  \n",
    "* *subtree*: Extracting a node of a certain tree and treating it as the root and all its children as a different tree from the original tree.   \n",
    "* *ordered tree*: for all trees directly connected to the root, if they are ordered in some way, we call the resulting tree an ordered tree. Implementations make use of pointers. Many implementations equip all parent nodes with (ordered) pointers to their children.  \n",
    "* *N-ary Tree*: each node can only have up to N children. \n",
    "* *Balanced Tree*: When the number of nodes on the left and right are well balanced, the tree is called a balanced tree. \n",
    "\n",
    "\n",
    "\n",
    "\n"
   ]
  },
  {
   "cell_type": "markdown",
   "metadata": {},
   "source": [
    "The computational complexity of querying a tree is proportional to its height, $O(h)$.  \n",
    "Even if the number of nodes are equal, $h$ can vary widely.  \n",
    "\n",
    "## Balanced Trees  \n",
    "\n",
    "Well balanced trees tend to have lower values of $h$ for the number of nodes they have.  \n",
    "Binary trees where the depth of leaves only varies by at most 1 are called strongly balanced binary trees.  \n",
    "Binary trees where all leaves have the same depth are called complete binary trees. On top of that, if all nodes other than the leaves have two children each, it is called a perfect binary tree.  \n",
    "\n",
    "If a complete binary tree has height $h$, Then $N = 2^h - 1$ which means $h = O(\\log N)$  \n"
   ]
  },
  {
   "cell_type": "markdown",
   "metadata": {},
   "source": [
    "# Binary Heaps  \n",
    "\n",
    "Data structure that makes use of binary trees.  \n",
    "Makes it easy extract the maximum (minimum) value stored.  \n",
    "A binary heap is defined as a binary tree with:  \n",
    "* *Shape property*: a binary heap is a complete binary tree; that is, all levels of the tree, except possibly the last one (deepest) are fully filled, and, if the last level of the tree is not complete, the nodes of that level are filled from left to right.  \n",
    "\n",
    "* *Heap property*: the key stored in each node is either greater than or equal to ($\\ge$) or less than or equal to ($\\le$) the keys in the node's children, according to some total order.\n",
    "\n",
    "\n",
    "\n",
    "\n"
   ]
  },
  {
   "cell_type": "markdown",
   "metadata": {},
   "source": [
    "Heaps where the parent key is greater than or equal to (≥) the child keys are called max-heaps; those where it is less than or equal to (≤) are called min-heaps. Efficient (logarithmic time) algorithms are known for the two operations needed to implement a priority queue on a binary heap: inserting an element, and removing the smallest or largest element from a min-heap or max-heap, respectively."
   ]
  },
  {
   "cell_type": "markdown",
   "metadata": {},
   "source": [
    "Insertion and Deletion operations: \n",
    "\n",
    "![](heap.jpg)"
   ]
  },
  {
   "cell_type": "markdown",
   "metadata": {},
   "source": [
    "Root will be maximum (minimum) value, so can query for max in $O(N)$ time.  \n",
    "Insertion and Deletion are $O(h) = O(\\log N)$\n"
   ]
  },
  {
   "cell_type": "markdown",
   "metadata": {},
   "source": [
    "Creating a heap from insertion takes $N$ values and reorders them (same operation as maximum deletion on right of graph which takes at most $h$ swaps) making the overall time complexity $O(N \\log N)$.  \n",
    "However, heapifying an existing binary tree takes only $O(N)$.  \n",
    "Heapifying means comparing to children nodes and swapping present value with the maximum value of the children nodes if the maximum value of the children nodes exceeds present value. Do this operation for every node $N$ and the outcome is ensured to be a heap ($O(N)$). \n",
    "\n",
    "Time complexity of heapify:  \n",
    "* Let tree height be $h$. heapifying at node with depth $d$ means the number of swaps is at most $h - d$.   \n",
    "* The number of nodes at depth $d$ is at most $2^d$ (0-th node, or the root, has 1, 1st level has 2, 2nd has 4, etc.).  \n",
    "* Thus, the number of swaps is  \n",
    "$$\\sum_{d=0} ^{h-1} 2^d * (h-d) = 2^{h-1} * 1 + 2^{h-2} * 2 + 2^{h - 3} * 3 + \\dots + 2^1 * (h - 1) + 2^0*h$$\n",
    "complexity is $O(2^h) = O(N)$\n"
   ]
  },
  {
   "cell_type": "markdown",
   "metadata": {},
   "source": [
    "# Heap Sort  \n",
    "\n",
    "1. Heapify the given array ($O(N)$)  \n",
    "2. Extract (and delete) the maximum $N$ times ($O(N \\log N)$)  \n",
    "\n",
    "Total complexity is $O(N\\log N)$  \n",
    "When extracting top $K$, the complexity is $O(K \\log N)$  \n",
    "\n"
   ]
  },
  {
   "cell_type": "markdown",
   "metadata": {},
   "source": [
    "# Binary Search Trees  \n",
    "\n",
    "Data structure that supports insertion, deletion, and search of elements much like a hash table or linked list.  \n",
    "A *binary search tree* is a binary tree with values `key[v]` for every node `v`, such that:  \n",
    "* internal nodes each store a key greater than all the keys in the node's left subtree and less than those in the right subtree.  \n",
    "\n"
   ]
  },
  {
   "cell_type": "markdown",
   "metadata": {},
   "source": [
    "Example: \n",
    "![](binsearch.png)"
   ]
  },
  {
   "cell_type": "markdown",
   "metadata": {},
   "source": [
    "searching for elements: go to each node, compare target element with node element. If target is smaller, go to left child, else go to right child until target is found. Time complexity $O(h) = O(\\log N)$"
   ]
  },
  {
   "cell_type": "markdown",
   "metadata": {},
   "source": [
    "insertion is similar. "
   ]
  },
  {
   "cell_type": "code",
   "execution_count": 10,
   "metadata": {},
   "outputs": [
    {
     "name": "stdout",
     "output_type": "stream",
     "text": [
      "19\n",
      "2\n"
     ]
    }
   ],
   "source": [
    "class BinSearchNode:\n",
    "    def __init__(self, key, parent=None):\n",
    "        self.left_child = None\n",
    "        self.right_child = None\n",
    "        self.key = key\n",
    "        self.parent = parent\n",
    "    \n",
    "    def num_children(self):\n",
    "        if self.left_child and self.right_child:\n",
    "            return 2\n",
    "        elif not self.left_child and not self.right_child:\n",
    "            return 0\n",
    "        else:\n",
    "            return 1\n",
    "    \n",
    "    def return_children(self):\n",
    "        return [child for child in [self.left_child, self.right_child] if child]\n",
    "    \n",
    "    def empty(self):\n",
    "        return self.left_child == self.right_child == self.key == None\n",
    "\n",
    "    def insert(self, key):\n",
    "        if self.empty():\n",
    "            self.key = key\n",
    "        elif key < self.key:\n",
    "            if not self.left_child:\n",
    "                self.left_child = BinSearchNode(key, self)\n",
    "            else:\n",
    "                self.left_child.insert(key)\n",
    "        elif key > self.key :\n",
    "            if not self.right_child:\n",
    "                self.right_child = BinSearchNode(key, self)\n",
    "            else:\n",
    "                self.right_child.insert(key)\n",
    "    # needs improvement, how to alter in place? \n",
    "    def remove(self, key):\n",
    "        target = self.lookup(key)\n",
    "        if target.num_children() == 0:\n",
    "            if target.parent.right_child.key == key:\n",
    "                target.parent.right_child = None\n",
    "            else:\n",
    "                target.parent.left_child = None\n",
    "        elif target.num_children() == 1:\n",
    "            replacement = target.return_children()[0]\n",
    "            if target.parent.right_child.key == key:\n",
    "                target.parent.right_child = replacement\n",
    "            else:\n",
    "                target.parent.left_child = replacement\n",
    "        else:\n",
    "            replacement = target.left_child.find_max()\n",
    "            replacement_key = replacement.key\n",
    "            self.remove(replacement_key)\n",
    "            target.key = replacement_key\n",
    "            \n",
    "    def lookup(self, key):\n",
    "        # root\n",
    "        if key == self.key:\n",
    "            return True\n",
    "\n",
    "        #recursive\n",
    "        elif key > self.key and self.left_child:\n",
    "            return self.left_child.lookup(key)\n",
    "        elif key < self.key and self.right_child:\n",
    "            return self.right_child.lookup(key)\n",
    "        else:\n",
    "            return False\n",
    "    \n",
    "    def find_min(self):\n",
    "        if not self.left_child:\n",
    "            return self.key\n",
    "        else:\n",
    "            return self.left_child.find_min()\n",
    "\n",
    "    def find_max(self):\n",
    "        if not self.right_child:\n",
    "            return self.key\n",
    "        else:\n",
    "            return self.right_child.find_max()\n",
    "\n"
   ]
  },
  {
   "cell_type": "markdown",
   "metadata": {},
   "source": []
  },
  {
   "cell_type": "markdown",
   "metadata": {},
   "source": [
    "# Union Find Data Structure  \n",
    "\n",
    "Data structure that stores a collection of disjoint (non-overlapping) sets. Equivalently, it stores a partition of a set into disjoint subsets. It provides operations for adding new sets, merging sets (replacing them by their union), and finding a representative member of a set.\n",
    "\n",
    "In union find, one group is represented by one tree. A collection of trees is called a forest.  \n",
    "  \n",
    "As long as the group is represented as a tree, the nodes and parent-children relations are irrelevant.  \n",
    "\n",
    "## Union By Size  \n",
    "\n",
    "Define size of a tree to be the number of nodes.  \n",
    "\n",
    "Join two trees so that the root of the smaller tree becomes a child node of the root of the bigger tree.  \n",
    "\n",
    "![](union.jpg)\n",
    "\n",
    "## Path Compression  \n",
    "\n",
    "When searching for a node's root, convert all parent nodes traversed in the process into roots. \n",
    "\n",
    "![](pathcompression.jpg)\n",
    "\n",
    "```\n",
    "function MakeSet(x) is\n",
    "    if x is not already in the forest then\n",
    "        x.parent := x\n",
    "        x.size := 1     // if nodes store size\n",
    "        x.rank := 0     // if nodes store rank\n",
    "    end if\n",
    "end function\n",
    "\n",
    "function Find(x) is\n",
    "    if x.parent ≠ x then\n",
    "        x.parent := Find(x.parent)\n",
    "        return x.parent\n",
    "    else\n",
    "        return x\n",
    "    end if\n",
    "end function\n",
    "\n",
    "function Union(x, y) is\n",
    "    // Replace nodes by roots\n",
    "    x := Find(x)\n",
    "    y := Find(y)\n",
    "\n",
    "    if x = y then\n",
    "        return  // x and y are already in the same set\n",
    "    end if\n",
    "\n",
    "    // If necessary, rename variables to ensure that\n",
    "    // x has at least as many descendants as y\n",
    "    if x.size < y.size then\n",
    "        (x, y) := (y, x)\n",
    "    end if\n",
    "\n",
    "    // Make x the new root\n",
    "    y.parent := x\n",
    "    // Update the size of x\n",
    "    x.size := x.size + y.size\n",
    "end function\n",
    "```\n",
    "\n",
    "\n",
    "\n",
    "\n"
   ]
  },
  {
   "cell_type": "markdown",
   "metadata": {},
   "source": []
  }
 ],
 "metadata": {
  "interpreter": {
   "hash": "73df3d2a648ddfe6e132dd0b2981f8c5ee01eb57f65aaa52301d101a94b0ebb5"
  },
  "kernelspec": {
   "display_name": "Python 3.8.3 64-bit ('base': conda)",
   "language": "python",
   "name": "python3"
  },
  "language_info": {
   "codemirror_mode": {
    "name": "ipython",
    "version": 3
   },
   "file_extension": ".py",
   "mimetype": "text/x-python",
   "name": "python",
   "nbconvert_exporter": "python",
   "pygments_lexer": "ipython3",
   "version": "3.8.3"
  },
  "orig_nbformat": 4
 },
 "nbformat": 4,
 "nbformat_minor": 2
}
