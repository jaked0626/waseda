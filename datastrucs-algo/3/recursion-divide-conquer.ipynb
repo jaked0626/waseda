{
 "cells": [
  {
   "cell_type": "markdown",
   "metadata": {},
   "source": [
    "# Euclidean Algorithm  \n",
    "\n",
    "Let $GCD(m, n)$ denote the greatest common denominator of $m$ and $n$.  \n",
    "Then, the below is known to be true:\n",
    "$$GCD(m, n) = GCD(n, r) \\\\\n",
    "r = m \\mod n$$\n",
    "Then, we can find the greatest common denominator of $m, n$ by following the below method:\n",
    "1. Divide $m$ by $n$  \n",
    "2. If $r = 0$, return $n$ to be the GCD. Otherwise, proceed to step 3.  \n",
    "3. If $r \\ne 0$, assign $n \\to m$, $r \\to n$ and repeat.  \n"
   ]
  },
  {
   "cell_type": "code",
   "execution_count": 2,
   "metadata": {},
   "outputs": [
    {
     "name": "stdout",
     "output_type": "stream",
     "text": [
      "4\n",
      "7\n",
      "1\n"
     ]
    }
   ],
   "source": [
    "def euclid(m, n):\n",
    "    r = m % n\n",
    "    if not r: # base case\n",
    "        return n\n",
    "    else:\n",
    "        return euclid(n, r)\n",
    "\n",
    "print(euclid(8, 4))\n",
    "print(euclid(56, 49))\n",
    "print(euclid(26, 33))"
   ]
  },
  {
   "cell_type": "markdown",
   "metadata": {},
   "source": [
    "# Fibonacci "
   ]
  },
  {
   "cell_type": "code",
   "execution_count": 6,
   "metadata": {},
   "outputs": [
    {
     "name": "stdout",
     "output_type": "stream",
     "text": [
      "[0, 1, 1, 2, 3, 5, 8, 13, 21, 34]\n"
     ]
    }
   ],
   "source": [
    "def fibo(N):\n",
    "    if not N:\n",
    "        return 0\n",
    "    elif N == 1:\n",
    "        return 1\n",
    "    else:\n",
    "        return fibo(N-1) + fibo(N - 2)\n",
    "\n",
    "print(list(map(fibo, list(range(10)))))"
   ]
  },
  {
   "cell_type": "markdown",
   "metadata": {},
   "source": [
    "If we keep a memo on known elements (caching), we can speed up the algorithm by avoiding computing same element thrice (eg fibo(N) is computed in fibo(N), fibo(N+1), fibo(N+2))"
   ]
  },
  {
   "cell_type": "code",
   "execution_count": 11,
   "metadata": {},
   "outputs": [
    {
     "name": "stdout",
     "output_type": "stream",
     "text": [
      "[0, 1, 1, 2, 3, 5, 8, 13, 21, 34, 55, 89, 144, 233, 377, 610, 987, 1597, 2584, 4181, 6765, 10946, 17711, 28657, 46368]\n"
     ]
    }
   ],
   "source": [
    "def fibo_cache(N, memo={}):\n",
    "    if not N:\n",
    "        return 0\n",
    "    elif N == 1:\n",
    "        return 1\n",
    "    if memo.get(N): \n",
    "        return memo[N]\n",
    "    else:\n",
    "        memo[N] = fibo_cache(N-1, memo) + fibo_cache(N - 2, memo)\n",
    "        return memo[N]\n",
    "\n",
    "print(list(map(fibo_cache, list(range(25)))))"
   ]
  },
  {
   "cell_type": "markdown",
   "metadata": {},
   "source": [
    "# Executive Search with Recursion  \n",
    "\n",
    "Same partial sum problem as before:\n",
    "> There are $N$ integers $a_i \\; (i = 0, 1, \\dots, N-1)$ and a positive integer $W$.  \n",
    "> Determine if there are any combinations of $a$ that sum up to $W$.  "
   ]
  },
  {
   "cell_type": "markdown",
   "metadata": {},
   "source": [
    "We think of the problem as the following: \n",
    "Can we construct $W$ as a sum of $N - 1$ integers (excluding $a_{N-1}$), or can we construct $W - a_{N-1}$ as a sum of $N - 1$ integers (later adding $a_{N-1}$ to complete our objective). This problem can be broken down recursively, and if either question evaluates to yes, then we know $W$ can be constructed as a sum of the $N$ integers. "
   ]
  },
  {
   "cell_type": "code",
   "execution_count": 16,
   "metadata": {},
   "outputs": [
    {
     "name": "stdout",
     "output_type": "stream",
     "text": [
      "True\n"
     ]
    }
   ],
   "source": [
    "def combin_search(array, W):\n",
    "    N = len(array)\n",
    "    return combin_search_r(array, W, N)\n",
    "\n",
    "def combin_search_r(array, W, i):\n",
    "    \"\"\"\n",
    "    array : array of integers\n",
    "    W: target\n",
    "    i: first i elements of array to consider\n",
    "    \"\"\"\n",
    "    # base\n",
    "    if i == 0:\n",
    "        if W == 0:\n",
    "             return True\n",
    "        else:\n",
    "            return False\n",
    "    # dont choose a_n-1\n",
    "    if combin_search_r(array, W, i - 1): return True\n",
    "\n",
    "    # choose a_n-1\n",
    "    if combin_search_r(array, W - array[i-1], i - 1): return True\n",
    "\n",
    "    return False\n",
    "\n",
    "print(combin_search([1, 2, 7], 3))\n",
    "\n"
   ]
  },
  {
   "cell_type": "markdown",
   "metadata": {},
   "source": [
    "For each node of our problem, we break into two more nodes (does it evaluate to $W$ or $W - a_{N-1}$?), meaning the computational complexity is \n",
    "$$O(2^N)$$\n",
    "A reduction from the partial sum problem with bitwise operations $O(N2^N)$\n"
   ]
  },
  {
   "cell_type": "markdown",
   "metadata": {},
   "source": [
    "# Divide and Conquer  \n",
    "\n",
    "Divide the problem into smaller subproblems and solve recursively, as we did here."
   ]
  }
 ],
 "metadata": {
  "interpreter": {
   "hash": "73df3d2a648ddfe6e132dd0b2981f8c5ee01eb57f65aaa52301d101a94b0ebb5"
  },
  "kernelspec": {
   "display_name": "Python 3.8.3 64-bit ('base': conda)",
   "language": "python",
   "name": "python3"
  },
  "language_info": {
   "codemirror_mode": {
    "name": "ipython",
    "version": 3
   },
   "file_extension": ".py",
   "mimetype": "text/x-python",
   "name": "python",
   "nbconvert_exporter": "python",
   "pygments_lexer": "ipython3",
   "version": "3.8.3"
  },
  "orig_nbformat": 4
 },
 "nbformat": 4,
 "nbformat_minor": 2
}
